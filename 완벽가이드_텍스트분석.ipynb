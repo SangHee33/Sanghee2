{
  "cells": [
    {
      "cell_type": "markdown",
      "metadata": {
        "id": "view-in-github",
        "colab_type": "text"
      },
      "source": [
        "<a href=\"https://colab.research.google.com/github/SangHee33/Sanghee2/blob/main/%EC%99%84%EB%B2%BD%EA%B0%80%EC%9D%B4%EB%93%9C_%ED%85%8D%EC%8A%A4%ED%8A%B8%EB%B6%84%EC%84%9D.ipynb\" target=\"_parent\"><img src=\"https://colab.research.google.com/assets/colab-badge.svg\" alt=\"Open In Colab\"/></a>"
      ]
    },
    {
      "cell_type": "markdown",
      "metadata": {
        "id": "_LH-2ZdOY59f"
      },
      "source": [
        "p. 512 ~ 516, 529 ~ 543"
      ]
    },
    {
      "cell_type": "markdown",
      "metadata": {
        "id": "14Lt-QPQbWhe"
      },
      "source": [
        "##06 토픽 모델링(Topic Modeling) - 20 뉴스그룹\n",
        "\n",
        "- 토픽 모델링 : 문서 집합에 숨어 있는 주제를 찾아내는 것\n",
        "- 숨겨진 주제를 효과적으로 표현할 수 있는 중심 단어를 함축적으로 추출\n",
        "- LSA와 LDA 기법 자주 사용"
      ]
    },
    {
      "cell_type": "code",
      "execution_count": null,
      "metadata": {
        "colab": {
          "base_uri": "https://localhost:8080/"
        },
        "id": "MGZ-i_x0X7bt",
        "outputId": "56cf156a-1d1d-48ae-88ac-ba5fdeb0c62d"
      },
      "outputs": [
        {
          "name": "stdout",
          "output_type": "stream",
          "text": [
            "CountVectorizer Shape: (7862, 1000)\n"
          ]
        }
      ],
      "source": [
        "from sklearn.datasets import fetch_20newsgroups\n",
        "from sklearn.feature_extraction.text import CountVectorizer\n",
        "from sklearn.decomposition import LatentDirichletAllocation\n",
        "\n",
        "# 모토사이클, 야구, 그래픽스, 윈도우즈, 중동, 기독교, 전자공학, 의학 9개 주제를 추출\n",
        "cats = ['rec.motorcycles', 'rec.sport.baseball', 'comp.graphics', 'comp.windows.x',\n",
        "        'talk.politics.mideast', 'soc.religion.christian', 'sci.electronics', 'sci.med']\n",
        "\n",
        "# 위에서 cats 변수로 기재된 카테고리만 추출. featch_20newsgroups( ) 의 categories에 cats 입력\n",
        "news_df = fetch_20newsgroups(subset='all', remove = ('headers', 'footers', 'quotes'),\n",
        "                             categories=cats, random_state=0)\n",
        "\n",
        "# LDA는 count기반의 벡터화만 적용합니다\n",
        "count_vect = CountVectorizer(max_df=0.95, max_features=1000, min_df=2, stop_words='english',\n",
        "                             ngram_range=(1,2))\n",
        "\n",
        "feat_vect = count_vect.fit_transform(news_df.data)\n",
        "print('CountVectorizer Shape:', feat_vect.shape)"
      ]
    },
    {
      "cell_type": "code",
      "execution_count": null,
      "metadata": {
        "colab": {
          "base_uri": "https://localhost:8080/",
          "height": 74
        },
        "id": "-p0VXd5Td0ZH",
        "outputId": "c50ec38c-1b18-4c75-b928-f3835258ae8e"
      },
      "outputs": [
        {
          "data": {
            "text/html": [
              "<style>#sk-container-id-1 {color: black;background-color: white;}#sk-container-id-1 pre{padding: 0;}#sk-container-id-1 div.sk-toggleable {background-color: white;}#sk-container-id-1 label.sk-toggleable__label {cursor: pointer;display: block;width: 100%;margin-bottom: 0;padding: 0.3em;box-sizing: border-box;text-align: center;}#sk-container-id-1 label.sk-toggleable__label-arrow:before {content: \"▸\";float: left;margin-right: 0.25em;color: #696969;}#sk-container-id-1 label.sk-toggleable__label-arrow:hover:before {color: black;}#sk-container-id-1 div.sk-estimator:hover label.sk-toggleable__label-arrow:before {color: black;}#sk-container-id-1 div.sk-toggleable__content {max-height: 0;max-width: 0;overflow: hidden;text-align: left;background-color: #f0f8ff;}#sk-container-id-1 div.sk-toggleable__content pre {margin: 0.2em;color: black;border-radius: 0.25em;background-color: #f0f8ff;}#sk-container-id-1 input.sk-toggleable__control:checked~div.sk-toggleable__content {max-height: 200px;max-width: 100%;overflow: auto;}#sk-container-id-1 input.sk-toggleable__control:checked~label.sk-toggleable__label-arrow:before {content: \"▾\";}#sk-container-id-1 div.sk-estimator input.sk-toggleable__control:checked~label.sk-toggleable__label {background-color: #d4ebff;}#sk-container-id-1 div.sk-label input.sk-toggleable__control:checked~label.sk-toggleable__label {background-color: #d4ebff;}#sk-container-id-1 input.sk-hidden--visually {border: 0;clip: rect(1px 1px 1px 1px);clip: rect(1px, 1px, 1px, 1px);height: 1px;margin: -1px;overflow: hidden;padding: 0;position: absolute;width: 1px;}#sk-container-id-1 div.sk-estimator {font-family: monospace;background-color: #f0f8ff;border: 1px dotted black;border-radius: 0.25em;box-sizing: border-box;margin-bottom: 0.5em;}#sk-container-id-1 div.sk-estimator:hover {background-color: #d4ebff;}#sk-container-id-1 div.sk-parallel-item::after {content: \"\";width: 100%;border-bottom: 1px solid gray;flex-grow: 1;}#sk-container-id-1 div.sk-label:hover label.sk-toggleable__label {background-color: #d4ebff;}#sk-container-id-1 div.sk-serial::before {content: \"\";position: absolute;border-left: 1px solid gray;box-sizing: border-box;top: 0;bottom: 0;left: 50%;z-index: 0;}#sk-container-id-1 div.sk-serial {display: flex;flex-direction: column;align-items: center;background-color: white;padding-right: 0.2em;padding-left: 0.2em;position: relative;}#sk-container-id-1 div.sk-item {position: relative;z-index: 1;}#sk-container-id-1 div.sk-parallel {display: flex;align-items: stretch;justify-content: center;background-color: white;position: relative;}#sk-container-id-1 div.sk-item::before, #sk-container-id-1 div.sk-parallel-item::before {content: \"\";position: absolute;border-left: 1px solid gray;box-sizing: border-box;top: 0;bottom: 0;left: 50%;z-index: -1;}#sk-container-id-1 div.sk-parallel-item {display: flex;flex-direction: column;z-index: 1;position: relative;background-color: white;}#sk-container-id-1 div.sk-parallel-item:first-child::after {align-self: flex-end;width: 50%;}#sk-container-id-1 div.sk-parallel-item:last-child::after {align-self: flex-start;width: 50%;}#sk-container-id-1 div.sk-parallel-item:only-child::after {width: 0;}#sk-container-id-1 div.sk-dashed-wrapped {border: 1px dashed gray;margin: 0 0.4em 0.5em 0.4em;box-sizing: border-box;padding-bottom: 0.4em;background-color: white;}#sk-container-id-1 div.sk-label label {font-family: monospace;font-weight: bold;display: inline-block;line-height: 1.2em;}#sk-container-id-1 div.sk-label-container {text-align: center;}#sk-container-id-1 div.sk-container {/* jupyter's `normalize.less` sets `[hidden] { display: none; }` but bootstrap.min.css set `[hidden] { display: none !important; }` so we also need the `!important` here to be able to override the default hidden behavior on the sphinx rendered scikit-learn.org. See: https://github.com/scikit-learn/scikit-learn/issues/21755 */display: inline-block !important;position: relative;}#sk-container-id-1 div.sk-text-repr-fallback {display: none;}</style><div id=\"sk-container-id-1\" class=\"sk-top-container\"><div class=\"sk-text-repr-fallback\"><pre>LatentDirichletAllocation(n_components=8, random_state=0)</pre><b>In a Jupyter environment, please rerun this cell to show the HTML representation or trust the notebook. <br />On GitHub, the HTML representation is unable to render, please try loading this page with nbviewer.org.</b></div><div class=\"sk-container\" hidden><div class=\"sk-item\"><div class=\"sk-estimator sk-toggleable\"><input class=\"sk-toggleable__control sk-hidden--visually\" id=\"sk-estimator-id-1\" type=\"checkbox\" checked><label for=\"sk-estimator-id-1\" class=\"sk-toggleable__label sk-toggleable__label-arrow\">LatentDirichletAllocation</label><div class=\"sk-toggleable__content\"><pre>LatentDirichletAllocation(n_components=8, random_state=0)</pre></div></div></div></div></div>"
            ],
            "text/plain": [
              "LatentDirichletAllocation(n_components=8, random_state=0)"
            ]
          },
          "execution_count": 2,
          "metadata": {},
          "output_type": "execute_result"
        }
      ],
      "source": [
        "lda = LatentDirichletAllocation(n_components=8, random_state=0)  # 토픽의 개수 지정\n",
        "lda.fit(feat_vect)"
      ]
    },
    {
      "cell_type": "code",
      "execution_count": null,
      "metadata": {
        "colab": {
          "base_uri": "https://localhost:8080/"
        },
        "id": "9plcKrvkeAtV",
        "outputId": "3b93c37f-7e78-45f4-d80d-a116a4d3e6c0"
      },
      "outputs": [
        {
          "name": "stdout",
          "output_type": "stream",
          "text": [
            "(8, 1000)\n"
          ]
        },
        {
          "data": {
            "text/plain": [
              "array([[3.60992018e+01, 1.35626798e+02, 2.15751867e+01, ...,\n",
              "        3.02911688e+01, 8.66830093e+01, 6.79285199e+01],\n",
              "       [1.25199920e-01, 1.44401815e+01, 1.25045596e-01, ...,\n",
              "        1.81506995e+02, 1.25097844e-01, 9.39593286e+01],\n",
              "       [3.34762663e+02, 1.25176265e-01, 1.46743299e+02, ...,\n",
              "        1.25105772e-01, 3.63689741e+01, 1.25025218e-01],\n",
              "       ...,\n",
              "       [3.60204965e+01, 2.08640688e+01, 4.29606813e+00, ...,\n",
              "        1.45056650e+01, 8.33854413e+00, 1.55690009e+01],\n",
              "       [1.25128711e-01, 1.25247756e-01, 1.25005143e-01, ...,\n",
              "        9.17278769e+01, 1.25177668e-01, 3.74575887e+01],\n",
              "       [5.49258690e+01, 4.47009532e+00, 9.88524814e+00, ...,\n",
              "        4.87048440e+01, 1.25034678e-01, 1.25074632e-01]])"
            ]
          },
          "execution_count": 4,
          "metadata": {},
          "output_type": "execute_result"
        }
      ],
      "source": [
        "print(lda.components_.shape)\n",
        "lda.components_"
      ]
    },
    {
      "cell_type": "code",
      "execution_count": null,
      "metadata": {
        "colab": {
          "base_uri": "https://localhost:8080/"
        },
        "id": "4Y7ufIXheNzz",
        "outputId": "5935c4b1-a68a-4873-c56b-9527894d2f57"
      },
      "outputs": [
        {
          "name": "stdout",
          "output_type": "stream",
          "text": [
            "Topic # 0\n",
            "year 10 game medical health team 12 20 disease cancer 1993 games years patients good\n",
            "Topic # 1\n",
            "don just like know people said think time ve didn right going say ll way\n",
            "Topic # 2\n",
            "image file jpeg program gif images output format files color entry 00 use bit 03\n",
            "Topic # 3\n",
            "like know don think use does just good time book read information people used post\n",
            "Topic # 4\n",
            "armenian israel armenians jews turkish people israeli jewish government war dos dos turkey arab armenia 000\n",
            "Topic # 5\n",
            "edu com available graphics ftp data pub motif mail widget software mit information version sun\n",
            "Topic # 6\n",
            "god people jesus church believe christ does christian say think christians bible faith sin life\n",
            "Topic # 7\n",
            "use dos thanks windows using window does display help like problem server need know run\n"
          ]
        }
      ],
      "source": [
        "# 각 토픽별 연관도가 높은 Word\n",
        "def display_topics(model, feature_names, no_top_words):\n",
        "  for topic_index, topic in enumerate(model.components_):\n",
        "    print('Topic #', topic_index)\n",
        "\n",
        "    # components_ array에서 가장 값이 큰 순으로 정렬했을 때, 그 값의 array 인덱스를 반환.\n",
        "    topic_word_indexes = topic.argsort()[::-1]\n",
        "    top_indexes=topic_word_indexes[:no_top_words]\n",
        "\n",
        "    # top_indexes 대상인 인덱스별로 feature_names에 해당하는 word feature 추출 후 joint으로 concat\n",
        "    feature_concat = ' '.join([feature_names[i] for i in top_indexes])\n",
        "    print(feature_concat)\n",
        "\n",
        "# CountVectorizer객체 내의 전체 word의 명칭을 get_features_names()를 통해 추출\n",
        "feature_names = count_vect.get_feature_names_out()\n",
        "\n",
        "# 토빅별 가장 연관도가 높은 word를 15개만 추출\n",
        "display_topics(lda, feature_names, 15)"
      ]
    },
    {
      "cell_type": "markdown",
      "metadata": {
        "id": "91NLWsPPfgLL"
      },
      "source": [
        "##08 문서 유사도\n",
        "\n",
        "###문서 유사도 측정 방법 - 코사인 유사도\n",
        "- 벡터와 벡터 간의 유사도를 비교할 때 벡터의 크기보다는 벡터의 상호 방향성이 얼마나 유사한지에 기반\n",
        "\n",
        "###두 벡터 사잇각\n",
        "![image.png](data:image/png;base64,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)\n",
        "\n",
        "![image.png](data:image/png;base64,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)"
      ]
    },
    {
      "cell_type": "code",
      "execution_count": null,
      "metadata": {
        "id": "-8udYksNfB0a"
      },
      "outputs": [],
      "source": [
        "# 두 넘파이 배열에 대한 코사인 유사도 구하는 함수\n",
        "import numpy as np\n",
        "\n",
        "def cos_similarity(v1, v2):\n",
        "  dot_product = np.dot(v1, v2)\n",
        "  l2_norm = (np.sqrt(sum(np.square(v1))) * np.sqrt(sum(np.square(v2))))\n",
        "  similarity = dot_product / l2_norm\n",
        "\n",
        "  return similarity"
      ]
    },
    {
      "cell_type": "code",
      "execution_count": null,
      "metadata": {
        "colab": {
          "base_uri": "https://localhost:8080/"
        },
        "id": "onL0Ajoyg9tn",
        "outputId": "82c8a002-761c-487e-b6a3-c9f9cd2ae8ae"
      },
      "outputs": [
        {
          "name": "stdout",
          "output_type": "stream",
          "text": [
            "(3, 18)\n"
          ]
        }
      ],
      "source": [
        "from sklearn.feature_extraction.text import TfidfVectorizer\n",
        "\n",
        "doc_list = ['if you take the blue pill, the story ends',\n",
        "            'if you take the red pill, you stay in Wonderland',\n",
        "            'if you take the red pill, I show you how deep the rabbit hole goes']\n",
        "\n",
        "tfidf_vect_simple = TfidfVectorizer()\n",
        "feature_vect_simple = tfidf_vect_simple.fit_transform(doc_list)\n",
        "print(feature_vect_simple.shape)"
      ]
    },
    {
      "cell_type": "markdown",
      "metadata": {
        "id": "XfPhce2KhQBi"
      },
      "source": [
        "-> 희소 행렬이므로 밀집 행렬로 변환 후 다시 각각을 배열로 변환"
      ]
    },
    {
      "cell_type": "code",
      "execution_count": null,
      "metadata": {
        "colab": {
          "base_uri": "https://localhost:8080/"
        },
        "id": "olN1LQL6hGO9",
        "outputId": "2d2eb86a-407f-4634-e8a1-96f8d6440fa2"
      },
      "outputs": [
        {
          "name": "stdout",
          "output_type": "stream",
          "text": [
            "문장 1, 문장 2 Cosine 유사도: 0.402\n"
          ]
        }
      ],
      "source": [
        "# TFidfVectorizer로 transform()한 결과는 희소 행렬이므로 밀집 행렬로 변환.\n",
        "feature_vect_dense = feature_vect_simple.todense()\n",
        "\n",
        "# 첫 번째 문장과 두 번째 문장의 피처 벡터 추출\n",
        "vect1 = np.array(feature_vect_dense[0]).reshape(-1, )\n",
        "vect2 = np.array(feature_vect_dense[1]).reshape(-1, )\n",
        "\n",
        "# 첫 번째 문장과 두 번째 문장의 피처 벡터로 두 개 문장의 코사인 유사도 추출\n",
        "similarity_simple = cos_similarity(vect1, vect2)\n",
        "print('문장 1, 문장 2 Cosine 유사도: {0:.3f}'.format(similarity_simple))"
      ]
    },
    {
      "cell_type": "code",
      "execution_count": null,
      "metadata": {
        "colab": {
          "base_uri": "https://localhost:8080/"
        },
        "id": "ENwTUeLihgTx",
        "outputId": "03543bb5-7e79-41a5-b258-6f8a7a119f77"
      },
      "outputs": [
        {
          "name": "stdout",
          "output_type": "stream",
          "text": [
            "문장 1, 문장 3 Cosine 유사도: 0.404\n",
            "문장 2, 문장 3 Cosine 유사도: 0.456\n"
          ]
        }
      ],
      "source": [
        "vect1 = np.array(feature_vect_dense[0]).reshape(-1, )\n",
        "vect3 = np.array(feature_vect_dense[2]).reshape(-1, )\n",
        "similarity_simple = cos_similarity(vect1, vect3)\n",
        "print('문장 1, 문장 3 Cosine 유사도: {0:.3f}'.format(similarity_simple))\n",
        "\n",
        "vect2 = np.array(feature_vect_dense[1]).reshape(-1, )\n",
        "vect3 = np.array(feature_vect_dense[2]).reshape(-1, )\n",
        "similarity_simple = cos_similarity(vect2, vect3)\n",
        "print('문장 2, 문장 3 Cosine 유사도: {0:.3f}'.format(similarity_simple))"
      ]
    },
    {
      "cell_type": "code",
      "execution_count": null,
      "metadata": {
        "colab": {
          "base_uri": "https://localhost:8080/"
        },
        "id": "_CECsl4vhtI_",
        "outputId": "68dc120a-d6cd-483d-a5a4-d1d3aaed5486"
      },
      "outputs": [
        {
          "name": "stdout",
          "output_type": "stream",
          "text": [
            "[[1.         0.40207758 0.40425045]]\n"
          ]
        }
      ],
      "source": [
        "from sklearn.metrics.pairwise import cosine_similarity\n",
        "\n",
        "# 희소 행렬, 밀집 행렬 모두 가능\n",
        "similarity_simple_pair = cosine_similarity(feature_vect_simple[0], feature_vect_simple)\n",
        "print(similarity_simple_pair)"
      ]
    },
    {
      "cell_type": "code",
      "execution_count": null,
      "metadata": {
        "colab": {
          "base_uri": "https://localhost:8080/"
        },
        "id": "drcL2E9hh6_j",
        "outputId": "3711b087-5333-475f-f73c-3392a5818b5e"
      },
      "outputs": [
        {
          "name": "stdout",
          "output_type": "stream",
          "text": [
            "[[0.40207758 0.40425045]]\n"
          ]
        }
      ],
      "source": [
        "from sklearn.metrics.pairwise import cosine_similarity\n",
        "\n",
        "similarity_simple_pair = cosine_similarity(feature_vect_simple[0], feature_vect_simple[1:])\n",
        "print(similarity_simple_pair)"
      ]
    },
    {
      "cell_type": "code",
      "execution_count": null,
      "metadata": {
        "colab": {
          "base_uri": "https://localhost:8080/"
        },
        "id": "Urf34Rrdh7oK",
        "outputId": "b8567cc9-3041-457d-9f20-efb79df11585"
      },
      "outputs": [
        {
          "name": "stdout",
          "output_type": "stream",
          "text": [
            "[[1.         0.40207758 0.40425045]\n",
            " [0.40207758 1.         0.45647296]\n",
            " [0.40425045 0.45647296 1.        ]]\n",
            "shape: (3, 3)\n"
          ]
        }
      ],
      "source": [
        "similarity_simple_pair = cosine_similarity(feature_vect_simple, feature_vect_simple)\n",
        "print(similarity_simple_pair)\n",
        "print('shape:', similarity_simple_pair.shape)"
      ]
    },
    {
      "cell_type": "markdown",
      "metadata": {
        "id": "Xcv2qCPriFIT"
      },
      "source": [
        "###Opinion Review 데이터 세트를 이용한 문서 유사도 측정"
      ]
    },
    {
      "cell_type": "code",
      "execution_count": null,
      "metadata": {
        "id": "C5XRWA5fiMdn"
      },
      "outputs": [],
      "source": [
        "from nltk.stem import WordNetLemmatizer\n",
        "import nltk\n",
        "import string\n",
        "\n",
        "remove_punct_dict = dict((ord(punct), None) for punct in string.punctuation)\n",
        "lemmar = WordNetLemmatizer()\n",
        "\n",
        "def LemTokens(tokens):\n",
        "    return [lemmar.lemmatize(token) for token in tokens]\n",
        "\n",
        "def LemNormalize(text):\n",
        "    return LemTokens(nltk.word_tokenize(text.lower().translate(remove_punct_dict)))"
      ]
    },
    {
      "cell_type": "code",
      "execution_count": null,
      "metadata": {
        "id": "3pb8vWNjkPUh"
      },
      "outputs": [],
      "source": [
        "import pandas as pd\n",
        "import glob ,os\n",
        "from sklearn.feature_extraction.text import TfidfVectorizer\n",
        "from sklearn.cluster import KMeans\n",
        "\n",
        "path = r'C:\\Users\\Text\\OpinosisDataSet1.0\\OpinosisDataset1.0\\topics'\n",
        "all_files = glob.glob(os.path.join(path, \"*.data\"))\n",
        "filename_list = []\n",
        "opinion_text = []\n",
        "\n",
        "for file_ in all_files:\n",
        "    df = pd.read_table(file_,index_col=None, header=0,encoding='latin1')\n",
        "    filename_ = file_.split('\\\\')[-1]\n",
        "    filename = filename_.split('.')[0]\n",
        "    filename_list.append(filename)\n",
        "    opinion_text.append(df.to_string())\n",
        "\n",
        "document_df = pd.DataFrame({'filename':filename_list, 'opinion_text':opinion_text})\n",
        "\n",
        "tfidf_vect = TfidfVectorizer(tokenizer=LemNormalize, stop_words='english' ,\n",
        "                             ngram_range=(1,2), min_df=0.05, max_df=0.85 )\n",
        "feature_vect = tfidf_vect.fit_transform(document_df['opinion_text'])\n",
        "\n",
        "km_cluster = KMeans(n_clusters=3, max_iter=10000, random_state=0)\n",
        "km_cluster.fit(feature_vect)\n",
        "cluster_label = km_cluster.labels_\n",
        "cluster_centers = km_cluster.cluster_centers_\n",
        "document_df['cluster_label'] = cluster_label"
      ]
    },
    {
      "cell_type": "code",
      "execution_count": null,
      "metadata": {
        "id": "YDfJvEiIkY0k"
      },
      "outputs": [],
      "source": [
        "from sklearn.metrics.pairwise import cosine_similarity\n",
        "\n",
        "# cluster_label = 1인 데이터는 호텔로 군집화된 데이터임. DataFrame에서 해당 인덱스를 추출\n",
        "hotel_indexes = document_df[document_df['cluster_label']==1].index\n",
        "print('호텔로 군집화 된 문서들의 DataFrame Index:', hotel_indexes)\n",
        "\n",
        "# 호텔로 군집화된 데이터 중 첫 번째 문서를 추출해 파일명 표시.\n",
        "comparison_docname = document_df.iloc[hotel_indexes[0]]['filename']\n",
        "print('##### 비교 기준 문서명 ', comparison_docname, ' 와 타 문서 유사도#####')\n",
        "\n",
        "''' document_df에서 추출한 Index 객체를 feature_vect로 입력해 호텔 군집화된 feature_vect 추출\n",
        "이를 이용해 호텔로 군집화된 문서 중 첫 번째 문서와 다른 문서 간의 코사인 유사도 측정.'''\n",
        "similarity_pair = cosine_similarity(feature_vect[hotel_indexes[0]], feature_vect[hotel_indexes])\n",
        "print(similarity_pair)"
      ]
    },
    {
      "cell_type": "code",
      "execution_count": null,
      "metadata": {
        "id": "Hr0lvYm-knoU"
      },
      "outputs": [],
      "source": [
        "import seaborn as sns\n",
        "import numpy as np\n",
        "import matplotlib.pyplot as plt\n",
        "%matplotlib inline\n",
        "\n",
        "# 첫 번째 문서와 타 문서 간 유사도가 큰 순으로 정렬한 인덱스를 추출하되 자기 자신은은 제외\n",
        "sorted_index = similarity_pair.argsort()[:, ::-1]\n",
        "sorted_index = sorted_index[:, 1:]\n",
        "\n",
        "# 유사도 큰 순으로 hotel_index를 추출해 재정렬\n",
        "hotel_sorted_indexes = hotel_indexes[sorted_index.reshape(-1)]\n",
        "\n",
        "# 유사도가 큰 순으로 유사도 값을 재정렬하되 자기 자신은은 제외\n",
        "hotel_1_sim_value = np.sort(similarity_pair.reshape(-1))[::-1]\n",
        "hotel_1_sim_value = hotel_1_sim_value[1:]\n",
        "\n",
        "# 유사도가 큰 순으로 정렬된 인덱스와 유사도 값을 이용해 파일명과 유사도 값을 막대 그래프로 시각화\n",
        "hotel_1_sim_df = pd.DataFrame()\n",
        "hotel_1_sim_df['filename'] = document_df.iloc[hotel_sorted_indexes]['filename']\n",
        "hotel_1_sim_df['similarity'] = hotel_1_sim_value\n",
        "\n",
        "sns.barplot(x='similarity', y='filename', data=hotel_1_sim_df)\n",
        "plt.title(comparison_docname)"
      ]
    },
    {
      "cell_type": "markdown",
      "metadata": {
        "id": "j6M1j5A-k37u"
      },
      "source": [
        "##09 한글 텍스트 처리 - 네이버 영화 평점 감성 분석\n",
        "### 한글 NLP 처리의 어려움\n",
        "- 띄어쓰기와 다양한 조사 때문에 의미가 왜곡될 수 있음\n",
        "- 조사의 수가 많아서 어근 추출 등의 전처리 시 제거하기 까다로움\n",
        "\n",
        "###KoNLPy 소개\n",
        "- 형태소 분석을 통해 형태소 어근 단위로 쪼개고 각 형태소에 품사 태깅을 부착"
      ]
    },
    {
      "cell_type": "code",
      "execution_count": null,
      "metadata": {
        "colab": {
          "base_uri": "https://localhost:8080/"
        },
        "id": "yegk5fDWm6rs",
        "outputId": "6497135c-91d2-4300-9054-14c5b851e16e"
      },
      "outputs": [
        {
          "name": "stdout",
          "output_type": "stream",
          "text": [
            "Collecting konlpy\n",
            "  Downloading konlpy-0.6.0-py2.py3-none-any.whl (19.4 MB)\n",
            "\u001b[2K     \u001b[90m━━━━━━━━━━━━━━━━━━━━━━━━━━━━━━━━━━━━━━━━\u001b[0m \u001b[32m19.4/19.4 MB\u001b[0m \u001b[31m51.0 MB/s\u001b[0m eta \u001b[36m0:00:00\u001b[0m\n",
            "\u001b[?25hCollecting JPype1>=0.7.0 (from konlpy)\n",
            "  Downloading JPype1-1.4.1-cp310-cp310-manylinux_2_12_x86_64.manylinux2010_x86_64.whl (465 kB)\n",
            "\u001b[2K     \u001b[90m━━━━━━━━━━━━━━━━━━━━━━━━━━━━━━━━━━━━━━━━\u001b[0m \u001b[32m465.3/465.3 kB\u001b[0m \u001b[31m40.1 MB/s\u001b[0m eta \u001b[36m0:00:00\u001b[0m\n",
            "\u001b[?25hRequirement already satisfied: lxml>=4.1.0 in /usr/local/lib/python3.10/dist-packages (from konlpy) (4.9.3)\n",
            "Requirement already satisfied: numpy>=1.6 in /usr/local/lib/python3.10/dist-packages (from konlpy) (1.23.5)\n",
            "Requirement already satisfied: packaging in /usr/local/lib/python3.10/dist-packages (from JPype1>=0.7.0->konlpy) (23.2)\n",
            "Installing collected packages: JPype1, konlpy\n",
            "Successfully installed JPype1-1.4.1 konlpy-0.6.0\n"
          ]
        }
      ],
      "source": [
        "pip install konlpy"
      ]
    },
    {
      "cell_type": "code",
      "execution_count": null,
      "metadata": {
        "colab": {
          "base_uri": "https://localhost:8080/",
          "height": 143
        },
        "id": "VaEFEGnKmS6d",
        "outputId": "9e391565-129c-4092-c738-09902359b165"
      },
      "outputs": [
        {
          "data": {
            "text/html": [
              "\n",
              "  <div id=\"df-ca6f8188-2411-4e07-9c81-37c039d5135c\" class=\"colab-df-container\">\n",
              "    <div>\n",
              "<style scoped>\n",
              "    .dataframe tbody tr th:only-of-type {\n",
              "        vertical-align: middle;\n",
              "    }\n",
              "\n",
              "    .dataframe tbody tr th {\n",
              "        vertical-align: top;\n",
              "    }\n",
              "\n",
              "    .dataframe thead th {\n",
              "        text-align: right;\n",
              "    }\n",
              "</style>\n",
              "<table border=\"1\" class=\"dataframe\">\n",
              "  <thead>\n",
              "    <tr style=\"text-align: right;\">\n",
              "      <th></th>\n",
              "      <th>id</th>\n",
              "      <th>document</th>\n",
              "      <th>label</th>\n",
              "    </tr>\n",
              "  </thead>\n",
              "  <tbody>\n",
              "    <tr>\n",
              "      <th>0</th>\n",
              "      <td>9976970</td>\n",
              "      <td>아 더빙.. 진짜 짜증나네요 목소리</td>\n",
              "      <td>0</td>\n",
              "    </tr>\n",
              "    <tr>\n",
              "      <th>1</th>\n",
              "      <td>3819312</td>\n",
              "      <td>흠...포스터보고 초딩영화줄....오버연기조차 가볍지 않구나</td>\n",
              "      <td>1</td>\n",
              "    </tr>\n",
              "    <tr>\n",
              "      <th>2</th>\n",
              "      <td>10265843</td>\n",
              "      <td>너무재밓었다그래서보는것을추천한다</td>\n",
              "      <td>0</td>\n",
              "    </tr>\n",
              "  </tbody>\n",
              "</table>\n",
              "</div>\n",
              "    <div class=\"colab-df-buttons\">\n",
              "\n",
              "  <div class=\"colab-df-container\">\n",
              "    <button class=\"colab-df-convert\" onclick=\"convertToInteractive('df-ca6f8188-2411-4e07-9c81-37c039d5135c')\"\n",
              "            title=\"Convert this dataframe to an interactive table.\"\n",
              "            style=\"display:none;\">\n",
              "\n",
              "  <svg xmlns=\"http://www.w3.org/2000/svg\" height=\"24px\" viewBox=\"0 -960 960 960\">\n",
              "    <path d=\"M120-120v-720h720v720H120Zm60-500h600v-160H180v160Zm220 220h160v-160H400v160Zm0 220h160v-160H400v160ZM180-400h160v-160H180v160Zm440 0h160v-160H620v160ZM180-180h160v-160H180v160Zm440 0h160v-160H620v160Z\"/>\n",
              "  </svg>\n",
              "    </button>\n",
              "\n",
              "  <style>\n",
              "    .colab-df-container {\n",
              "      display:flex;\n",
              "      gap: 12px;\n",
              "    }\n",
              "\n",
              "    .colab-df-convert {\n",
              "      background-color: #E8F0FE;\n",
              "      border: none;\n",
              "      border-radius: 50%;\n",
              "      cursor: pointer;\n",
              "      display: none;\n",
              "      fill: #1967D2;\n",
              "      height: 32px;\n",
              "      padding: 0 0 0 0;\n",
              "      width: 32px;\n",
              "    }\n",
              "\n",
              "    .colab-df-convert:hover {\n",
              "      background-color: #E2EBFA;\n",
              "      box-shadow: 0px 1px 2px rgba(60, 64, 67, 0.3), 0px 1px 3px 1px rgba(60, 64, 67, 0.15);\n",
              "      fill: #174EA6;\n",
              "    }\n",
              "\n",
              "    .colab-df-buttons div {\n",
              "      margin-bottom: 4px;\n",
              "    }\n",
              "\n",
              "    [theme=dark] .colab-df-convert {\n",
              "      background-color: #3B4455;\n",
              "      fill: #D2E3FC;\n",
              "    }\n",
              "\n",
              "    [theme=dark] .colab-df-convert:hover {\n",
              "      background-color: #434B5C;\n",
              "      box-shadow: 0px 1px 3px 1px rgba(0, 0, 0, 0.15);\n",
              "      filter: drop-shadow(0px 1px 2px rgba(0, 0, 0, 0.3));\n",
              "      fill: #FFFFFF;\n",
              "    }\n",
              "  </style>\n",
              "\n",
              "    <script>\n",
              "      const buttonEl =\n",
              "        document.querySelector('#df-ca6f8188-2411-4e07-9c81-37c039d5135c button.colab-df-convert');\n",
              "      buttonEl.style.display =\n",
              "        google.colab.kernel.accessAllowed ? 'block' : 'none';\n",
              "\n",
              "      async function convertToInteractive(key) {\n",
              "        const element = document.querySelector('#df-ca6f8188-2411-4e07-9c81-37c039d5135c');\n",
              "        const dataTable =\n",
              "          await google.colab.kernel.invokeFunction('convertToInteractive',\n",
              "                                                    [key], {});\n",
              "        if (!dataTable) return;\n",
              "\n",
              "        const docLinkHtml = 'Like what you see? Visit the ' +\n",
              "          '<a target=\"_blank\" href=https://colab.research.google.com/notebooks/data_table.ipynb>data table notebook</a>'\n",
              "          + ' to learn more about interactive tables.';\n",
              "        element.innerHTML = '';\n",
              "        dataTable['output_type'] = 'display_data';\n",
              "        await google.colab.output.renderOutput(dataTable, element);\n",
              "        const docLink = document.createElement('div');\n",
              "        docLink.innerHTML = docLinkHtml;\n",
              "        element.appendChild(docLink);\n",
              "      }\n",
              "    </script>\n",
              "  </div>\n",
              "\n",
              "\n",
              "<div id=\"df-2d9cbd3f-4c6b-44ef-afe6-b531b1bf4c83\">\n",
              "  <button class=\"colab-df-quickchart\" onclick=\"quickchart('df-2d9cbd3f-4c6b-44ef-afe6-b531b1bf4c83')\"\n",
              "            title=\"Suggest charts.\"\n",
              "            style=\"display:none;\">\n",
              "\n",
              "<svg xmlns=\"http://www.w3.org/2000/svg\" height=\"24px\"viewBox=\"0 0 24 24\"\n",
              "     width=\"24px\">\n",
              "    <g>\n",
              "        <path d=\"M19 3H5c-1.1 0-2 .9-2 2v14c0 1.1.9 2 2 2h14c1.1 0 2-.9 2-2V5c0-1.1-.9-2-2-2zM9 17H7v-7h2v7zm4 0h-2V7h2v10zm4 0h-2v-4h2v4z\"/>\n",
              "    </g>\n",
              "</svg>\n",
              "  </button>\n",
              "\n",
              "<style>\n",
              "  .colab-df-quickchart {\n",
              "      --bg-color: #E8F0FE;\n",
              "      --fill-color: #1967D2;\n",
              "      --hover-bg-color: #E2EBFA;\n",
              "      --hover-fill-color: #174EA6;\n",
              "      --disabled-fill-color: #AAA;\n",
              "      --disabled-bg-color: #DDD;\n",
              "  }\n",
              "\n",
              "  [theme=dark] .colab-df-quickchart {\n",
              "      --bg-color: #3B4455;\n",
              "      --fill-color: #D2E3FC;\n",
              "      --hover-bg-color: #434B5C;\n",
              "      --hover-fill-color: #FFFFFF;\n",
              "      --disabled-bg-color: #3B4455;\n",
              "      --disabled-fill-color: #666;\n",
              "  }\n",
              "\n",
              "  .colab-df-quickchart {\n",
              "    background-color: var(--bg-color);\n",
              "    border: none;\n",
              "    border-radius: 50%;\n",
              "    cursor: pointer;\n",
              "    display: none;\n",
              "    fill: var(--fill-color);\n",
              "    height: 32px;\n",
              "    padding: 0;\n",
              "    width: 32px;\n",
              "  }\n",
              "\n",
              "  .colab-df-quickchart:hover {\n",
              "    background-color: var(--hover-bg-color);\n",
              "    box-shadow: 0 1px 2px rgba(60, 64, 67, 0.3), 0 1px 3px 1px rgba(60, 64, 67, 0.15);\n",
              "    fill: var(--button-hover-fill-color);\n",
              "  }\n",
              "\n",
              "  .colab-df-quickchart-complete:disabled,\n",
              "  .colab-df-quickchart-complete:disabled:hover {\n",
              "    background-color: var(--disabled-bg-color);\n",
              "    fill: var(--disabled-fill-color);\n",
              "    box-shadow: none;\n",
              "  }\n",
              "\n",
              "  .colab-df-spinner {\n",
              "    border: 2px solid var(--fill-color);\n",
              "    border-color: transparent;\n",
              "    border-bottom-color: var(--fill-color);\n",
              "    animation:\n",
              "      spin 1s steps(1) infinite;\n",
              "  }\n",
              "\n",
              "  @keyframes spin {\n",
              "    0% {\n",
              "      border-color: transparent;\n",
              "      border-bottom-color: var(--fill-color);\n",
              "      border-left-color: var(--fill-color);\n",
              "    }\n",
              "    20% {\n",
              "      border-color: transparent;\n",
              "      border-left-color: var(--fill-color);\n",
              "      border-top-color: var(--fill-color);\n",
              "    }\n",
              "    30% {\n",
              "      border-color: transparent;\n",
              "      border-left-color: var(--fill-color);\n",
              "      border-top-color: var(--fill-color);\n",
              "      border-right-color: var(--fill-color);\n",
              "    }\n",
              "    40% {\n",
              "      border-color: transparent;\n",
              "      border-right-color: var(--fill-color);\n",
              "      border-top-color: var(--fill-color);\n",
              "    }\n",
              "    60% {\n",
              "      border-color: transparent;\n",
              "      border-right-color: var(--fill-color);\n",
              "    }\n",
              "    80% {\n",
              "      border-color: transparent;\n",
              "      border-right-color: var(--fill-color);\n",
              "      border-bottom-color: var(--fill-color);\n",
              "    }\n",
              "    90% {\n",
              "      border-color: transparent;\n",
              "      border-bottom-color: var(--fill-color);\n",
              "    }\n",
              "  }\n",
              "</style>\n",
              "\n",
              "  <script>\n",
              "    async function quickchart(key) {\n",
              "      const quickchartButtonEl =\n",
              "        document.querySelector('#' + key + ' button');\n",
              "      quickchartButtonEl.disabled = true;  // To prevent multiple clicks.\n",
              "      quickchartButtonEl.classList.add('colab-df-spinner');\n",
              "      try {\n",
              "        const charts = await google.colab.kernel.invokeFunction(\n",
              "            'suggestCharts', [key], {});\n",
              "      } catch (error) {\n",
              "        console.error('Error during call to suggestCharts:', error);\n",
              "      }\n",
              "      quickchartButtonEl.classList.remove('colab-df-spinner');\n",
              "      quickchartButtonEl.classList.add('colab-df-quickchart-complete');\n",
              "    }\n",
              "    (() => {\n",
              "      let quickchartButtonEl =\n",
              "        document.querySelector('#df-2d9cbd3f-4c6b-44ef-afe6-b531b1bf4c83 button');\n",
              "      quickchartButtonEl.style.display =\n",
              "        google.colab.kernel.accessAllowed ? 'block' : 'none';\n",
              "    })();\n",
              "  </script>\n",
              "</div>\n",
              "    </div>\n",
              "  </div>\n"
            ],
            "text/plain": [
              "         id                           document  label\n",
              "0   9976970                아 더빙.. 진짜 짜증나네요 목소리      0\n",
              "1   3819312  흠...포스터보고 초딩영화줄....오버연기조차 가볍지 않구나      1\n",
              "2  10265843                  너무재밓었다그래서보는것을추천한다      0"
            ]
          },
          "execution_count": 28,
          "metadata": {},
          "output_type": "execute_result"
        }
      ],
      "source": [
        "import pandas as pd\n",
        "\n",
        "train_df=pd.read_csv('ratings_train.txt', sep='\\t')\n",
        "train_df.head(3)"
      ]
    },
    {
      "cell_type": "code",
      "execution_count": null,
      "metadata": {
        "colab": {
          "base_uri": "https://localhost:8080/"
        },
        "id": "s2r49nhRmaSY",
        "outputId": "9722088a-6181-4040-ecb5-48f1552fecb4"
      },
      "outputs": [
        {
          "data": {
            "text/plain": [
              "0    75173\n",
              "1    74827\n",
              "Name: label, dtype: int64"
            ]
          },
          "execution_count": 29,
          "metadata": {},
          "output_type": "execute_result"
        }
      ],
      "source": [
        "train_df['label'].value_counts()"
      ]
    },
    {
      "cell_type": "code",
      "execution_count": null,
      "metadata": {
        "id": "SNI_ZenQmkPg"
      },
      "outputs": [],
      "source": [
        "import re\n",
        "\n",
        "train_df = train_df.fillna(' ')\n",
        "# 정규 표현식을 이용해 숫자를 공백으로 변경(정규 표현식으로 \\d는 숫자를 의미함)\n",
        "train_df['document'] = train_df['document'].apply(lambda x: re.sub(r'\\d+', ' ', x))\n",
        "\n",
        "# 테스트 데이터 세트를 로딩하고 동일하게 null 및 숫자를 공백으로 변환\n",
        "test_df = pd.read_csv('ratings_test.txt', sep='\\t')\n",
        "test_df = test_df.fillna(' ')\n",
        "test_df['document'] = test_df['document'].apply(lambda x: re.sub(r'\\d+', ' ', x))\n",
        "\n",
        "# id 칼럼 삭제 수행\n",
        "train_df.drop('id', axis=1, inplace=True)\n",
        "test_df.drop('id', axis=1, inplace=True)"
      ]
    },
    {
      "cell_type": "code",
      "execution_count": 36,
      "metadata": {
        "colab": {
          "base_uri": "https://localhost:8080/"
        },
        "id": "TCjojcvlmzoB",
        "outputId": "42d53c06-ccbb-4d7f-a341-2352c1097872"
      },
      "outputs": [
        {
          "output_type": "stream",
          "name": "stderr",
          "text": [
            "/usr/local/lib/python3.10/dist-packages/konlpy/tag/_okt.py:17: UserWarning: \"Twitter\" has changed to \"Okt\" since KoNLPy v0.4.5.\n",
            "  warn('\"Twitter\" has changed to \"Okt\" since KoNLPy v0.4.5.')\n"
          ]
        }
      ],
      "source": [
        "from konlpy.tag import Twitter\n",
        "\n",
        "twitter = Twitter()\n",
        "def tw_tokenizer(text):\n",
        "  # 입력 인자로 들어온 텍스트를 형태소 단어로 토큰화해 리스트 형태로 반환\n",
        "  tokens_ko = twitter.morphs(text)\n",
        "  return tokens_ko"
      ]
    },
    {
      "cell_type": "code",
      "execution_count": null,
      "metadata": {
        "colab": {
          "background_save": true,
          "base_uri": "https://localhost:8080/"
        },
        "id": "nIT0DlkvnIk4",
        "outputId": "60a0a6a1-a06f-4b62-d2f5-d40fd7c8e299"
      },
      "outputs": [
        {
          "name": "stderr",
          "output_type": "stream",
          "text": [
            "/usr/local/lib/python3.10/dist-packages/sklearn/feature_extraction/text.py:528: UserWarning: The parameter 'token_pattern' will not be used since 'tokenizer' is not None'\n",
            "  warnings.warn(\n"
          ]
        }
      ],
      "source": [
        "from sklearn.feature_extraction.text import TfidfVectorizer\n",
        "from sklearn.linear_model import LogisticRegression\n",
        "from sklearn.model_selection import GridSearchCV\n",
        "\n",
        "# twitter 객체의 morphs() 객체를 이용한 tokenizer 사용. ngram_range=(1,2)\n",
        "tfidf_vect = TfidfVectorizer(tokenizer=tw_tokenizer, ngram_range=(1,2), min_df=3, max_df=0.9)\n",
        "tfidf_vect.fit(train_df['document'])\n",
        "tfidf_matrix_train = tfidf_vect.transform(train_df['document'])"
      ]
    },
    {
      "cell_type": "code",
      "execution_count": 34,
      "metadata": {
        "id": "L_A6tpvwnOKD",
        "colab": {
          "base_uri": "https://localhost:8080/"
        },
        "outputId": "59cfeb08-9e25-42a6-e19b-a8061d7e8d5f"
      },
      "outputs": [
        {
          "metadata": {
            "tags": null
          },
          "name": "stdout",
          "output_type": "stream",
          "text": [
            "Fitting 3 folds for each of 5 candidates, totalling 15 fits\n"
          ]
        },
        {
          "output_type": "stream",
          "name": "stderr",
          "text": [
            "/usr/local/lib/python3.10/dist-packages/sklearn/linear_model/_logistic.py:458: ConvergenceWarning: lbfgs failed to converge (status=1):\n",
            "STOP: TOTAL NO. of ITERATIONS REACHED LIMIT.\n",
            "\n",
            "Increase the number of iterations (max_iter) or scale the data as shown in:\n",
            "    https://scikit-learn.org/stable/modules/preprocessing.html\n",
            "Please also refer to the documentation for alternative solver options:\n",
            "    https://scikit-learn.org/stable/modules/linear_model.html#logistic-regression\n",
            "  n_iter_i = _check_optimize_result(\n",
            "/usr/local/lib/python3.10/dist-packages/sklearn/linear_model/_logistic.py:458: ConvergenceWarning: lbfgs failed to converge (status=1):\n",
            "STOP: TOTAL NO. of ITERATIONS REACHED LIMIT.\n",
            "\n",
            "Increase the number of iterations (max_iter) or scale the data as shown in:\n",
            "    https://scikit-learn.org/stable/modules/preprocessing.html\n",
            "Please also refer to the documentation for alternative solver options:\n",
            "    https://scikit-learn.org/stable/modules/linear_model.html#logistic-regression\n",
            "  n_iter_i = _check_optimize_result(\n",
            "/usr/local/lib/python3.10/dist-packages/sklearn/linear_model/_logistic.py:458: ConvergenceWarning: lbfgs failed to converge (status=1):\n",
            "STOP: TOTAL NO. of ITERATIONS REACHED LIMIT.\n",
            "\n",
            "Increase the number of iterations (max_iter) or scale the data as shown in:\n",
            "    https://scikit-learn.org/stable/modules/preprocessing.html\n",
            "Please also refer to the documentation for alternative solver options:\n",
            "    https://scikit-learn.org/stable/modules/linear_model.html#logistic-regression\n",
            "  n_iter_i = _check_optimize_result(\n",
            "/usr/local/lib/python3.10/dist-packages/sklearn/linear_model/_logistic.py:458: ConvergenceWarning: lbfgs failed to converge (status=1):\n",
            "STOP: TOTAL NO. of ITERATIONS REACHED LIMIT.\n",
            "\n",
            "Increase the number of iterations (max_iter) or scale the data as shown in:\n",
            "    https://scikit-learn.org/stable/modules/preprocessing.html\n",
            "Please also refer to the documentation for alternative solver options:\n",
            "    https://scikit-learn.org/stable/modules/linear_model.html#logistic-regression\n",
            "  n_iter_i = _check_optimize_result(\n",
            "/usr/local/lib/python3.10/dist-packages/sklearn/linear_model/_logistic.py:458: ConvergenceWarning: lbfgs failed to converge (status=1):\n",
            "STOP: TOTAL NO. of ITERATIONS REACHED LIMIT.\n",
            "\n",
            "Increase the number of iterations (max_iter) or scale the data as shown in:\n",
            "    https://scikit-learn.org/stable/modules/preprocessing.html\n",
            "Please also refer to the documentation for alternative solver options:\n",
            "    https://scikit-learn.org/stable/modules/linear_model.html#logistic-regression\n",
            "  n_iter_i = _check_optimize_result(\n",
            "/usr/local/lib/python3.10/dist-packages/sklearn/linear_model/_logistic.py:458: ConvergenceWarning: lbfgs failed to converge (status=1):\n",
            "STOP: TOTAL NO. of ITERATIONS REACHED LIMIT.\n",
            "\n",
            "Increase the number of iterations (max_iter) or scale the data as shown in:\n",
            "    https://scikit-learn.org/stable/modules/preprocessing.html\n",
            "Please also refer to the documentation for alternative solver options:\n",
            "    https://scikit-learn.org/stable/modules/linear_model.html#logistic-regression\n",
            "  n_iter_i = _check_optimize_result(\n",
            "/usr/local/lib/python3.10/dist-packages/sklearn/linear_model/_logistic.py:458: ConvergenceWarning: lbfgs failed to converge (status=1):\n",
            "STOP: TOTAL NO. of ITERATIONS REACHED LIMIT.\n",
            "\n",
            "Increase the number of iterations (max_iter) or scale the data as shown in:\n",
            "    https://scikit-learn.org/stable/modules/preprocessing.html\n",
            "Please also refer to the documentation for alternative solver options:\n",
            "    https://scikit-learn.org/stable/modules/linear_model.html#logistic-regression\n",
            "  n_iter_i = _check_optimize_result(\n",
            "/usr/local/lib/python3.10/dist-packages/sklearn/linear_model/_logistic.py:458: ConvergenceWarning: lbfgs failed to converge (status=1):\n",
            "STOP: TOTAL NO. of ITERATIONS REACHED LIMIT.\n",
            "\n",
            "Increase the number of iterations (max_iter) or scale the data as shown in:\n",
            "    https://scikit-learn.org/stable/modules/preprocessing.html\n",
            "Please also refer to the documentation for alternative solver options:\n",
            "    https://scikit-learn.org/stable/modules/linear_model.html#logistic-regression\n",
            "  n_iter_i = _check_optimize_result(\n",
            "/usr/local/lib/python3.10/dist-packages/sklearn/linear_model/_logistic.py:458: ConvergenceWarning: lbfgs failed to converge (status=1):\n",
            "STOP: TOTAL NO. of ITERATIONS REACHED LIMIT.\n",
            "\n",
            "Increase the number of iterations (max_iter) or scale the data as shown in:\n",
            "    https://scikit-learn.org/stable/modules/preprocessing.html\n",
            "Please also refer to the documentation for alternative solver options:\n",
            "    https://scikit-learn.org/stable/modules/linear_model.html#logistic-regression\n",
            "  n_iter_i = _check_optimize_result(\n",
            "/usr/local/lib/python3.10/dist-packages/sklearn/linear_model/_logistic.py:458: ConvergenceWarning: lbfgs failed to converge (status=1):\n",
            "STOP: TOTAL NO. of ITERATIONS REACHED LIMIT.\n",
            "\n",
            "Increase the number of iterations (max_iter) or scale the data as shown in:\n",
            "    https://scikit-learn.org/stable/modules/preprocessing.html\n",
            "Please also refer to the documentation for alternative solver options:\n",
            "    https://scikit-learn.org/stable/modules/linear_model.html#logistic-regression\n",
            "  n_iter_i = _check_optimize_result(\n",
            "/usr/local/lib/python3.10/dist-packages/sklearn/linear_model/_logistic.py:458: ConvergenceWarning: lbfgs failed to converge (status=1):\n",
            "STOP: TOTAL NO. of ITERATIONS REACHED LIMIT.\n",
            "\n",
            "Increase the number of iterations (max_iter) or scale the data as shown in:\n",
            "    https://scikit-learn.org/stable/modules/preprocessing.html\n",
            "Please also refer to the documentation for alternative solver options:\n",
            "    https://scikit-learn.org/stable/modules/linear_model.html#logistic-regression\n",
            "  n_iter_i = _check_optimize_result(\n",
            "/usr/local/lib/python3.10/dist-packages/sklearn/linear_model/_logistic.py:458: ConvergenceWarning: lbfgs failed to converge (status=1):\n",
            "STOP: TOTAL NO. of ITERATIONS REACHED LIMIT.\n",
            "\n",
            "Increase the number of iterations (max_iter) or scale the data as shown in:\n",
            "    https://scikit-learn.org/stable/modules/preprocessing.html\n",
            "Please also refer to the documentation for alternative solver options:\n",
            "    https://scikit-learn.org/stable/modules/linear_model.html#logistic-regression\n",
            "  n_iter_i = _check_optimize_result(\n"
          ]
        },
        {
          "output_type": "stream",
          "name": "stdout",
          "text": [
            "{'C': 3.5} 0.8593\n"
          ]
        },
        {
          "output_type": "stream",
          "name": "stderr",
          "text": [
            "/usr/local/lib/python3.10/dist-packages/sklearn/linear_model/_logistic.py:458: ConvergenceWarning: lbfgs failed to converge (status=1):\n",
            "STOP: TOTAL NO. of ITERATIONS REACHED LIMIT.\n",
            "\n",
            "Increase the number of iterations (max_iter) or scale the data as shown in:\n",
            "    https://scikit-learn.org/stable/modules/preprocessing.html\n",
            "Please also refer to the documentation for alternative solver options:\n",
            "    https://scikit-learn.org/stable/modules/linear_model.html#logistic-regression\n",
            "  n_iter_i = _check_optimize_result(\n"
          ]
        }
      ],
      "source": [
        "# 로지스틱 회귀를 이용해 감성 분석 분류 수행\n",
        "lg_clf = LogisticRegression(random_state=0)\n",
        "\n",
        "# 파라미터 C의 최적화를 위해 GridSearchCV 이용\n",
        "params = {'C':[1, 3.5, 4.5, 5.5, 10]}\n",
        "\n",
        "grid_cv = GridSearchCV(lg_clf, param_grid=params, cv=3, scoring='accuracy', verbose=1)\n",
        "grid_cv.fit(tfidf_matrix_train, train_df['label'])\n",
        "print(grid_cv.best_params_, round(grid_cv.best_score_, 4))"
      ]
    },
    {
      "cell_type": "code",
      "execution_count": 35,
      "metadata": {
        "id": "enjP88gfnaKS",
        "colab": {
          "base_uri": "https://localhost:8080/"
        },
        "outputId": "9ee8da86-66fa-46e1-e55e-fb70ebcf909e"
      },
      "outputs": [
        {
          "output_type": "stream",
          "name": "stdout",
          "text": [
            "Logistic Regression 정확도: 0.86186\n"
          ]
        }
      ],
      "source": [
        "from sklearn.metrics import accuracy_score\n",
        "\n",
        "# 학습 데이터를 적용한 TfidfVectorizer를 이용해 테스트 데이터를 TF-IDF 값으로 피처 변환함\n",
        "tfidf_matrix_test = tfidf_vect.transform(test_df['document'])\n",
        "\n",
        "# classifier는 gridsearchcv에서 최적 파라미터로 학습된 calssifier를 그대로 이용\n",
        "best_estimator = grid_cv.best_estimator_\n",
        "preds = best_estimator.predict(tfidf_matrix_test)\n",
        "\n",
        "print('Logistic Regression 정확도:', accuracy_score(test_df['label'], preds))"
      ]
    }
  ],
  "metadata": {
    "colab": {
      "provenance": [],
      "authorship_tag": "ABX9TyOulIVmZ3eWqLuQTpHHUT5B",
      "include_colab_link": true
    },
    "kernelspec": {
      "display_name": "Python 3",
      "name": "python3"
    },
    "language_info": {
      "name": "python"
    }
  },
  "nbformat": 4,
  "nbformat_minor": 0
}