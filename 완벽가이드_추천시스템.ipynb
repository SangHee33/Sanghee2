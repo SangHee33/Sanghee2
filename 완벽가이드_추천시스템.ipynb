{
  "nbformat": 4,
  "nbformat_minor": 0,
  "metadata": {
    "colab": {
      "provenance": [],
      "authorship_tag": "ABX9TyM1UL3GOgWyDLhpnigEqtXY",
      "include_colab_link": true
    },
    "kernelspec": {
      "name": "python3",
      "display_name": "Python 3"
    },
    "language_info": {
      "name": "python"
    }
  },
  "cells": [
    {
      "cell_type": "markdown",
      "metadata": {
        "id": "view-in-github",
        "colab_type": "text"
      },
      "source": [
        "<a href=\"https://colab.research.google.com/github/SangHee33/Sanghee2/blob/main/%EC%99%84%EB%B2%BD%EA%B0%80%EC%9D%B4%EB%93%9C_%EC%B6%94%EC%B2%9C%EC%8B%9C%EC%8A%A4%ED%85%9C.ipynb\" target=\"_parent\"><img src=\"https://colab.research.google.com/assets/colab-badge.svg\" alt=\"Open In Colab\"/></a>"
      ]
    },
    {
      "cell_type": "markdown",
      "source": [
        "p. 562~579"
      ],
      "metadata": {
        "id": "y5_kd7z0ZtoY"
      }
    },
    {
      "cell_type": "markdown",
      "source": [
        "#9 추천 시스템\n",
        "##01 추천 시스템의 개요와 배경\n",
        "### 추천 시스템의 개요\n",
        "- 자신도 몰랐던 취향을 시스템이 발견하고 그에 맞는 콘텐츠를 추천\n",
        "### 온라인 스토어의 필수 요소, 추천 시스템\n",
        "- 많은 양의 고객과 상품 관련 데이터를 통해 사용자가 흥미를 가질 만한 상품을 즉각적으로 추천\n",
        "### 추천 시스템의 유형\n",
        "- 콘텐츠 기반 필터링\n",
        "- 협업 필터링 : 최근접 이웃 협업 필터링, 잠재 요인 협업 필터링\n",
        "- 대부분의 온라인 스토어에서 잠재 요인 협업 필터링 기반의 추천 시스템 적용\n",
        "\n",
        "\n",
        "##02 콘텐츠 기반 필터링 추천 시스템\n",
        "- 사용자가 특정한 아이템을 매우 선호하는 경우, 그 아이템과 비슷한 콘텐츠를 가진 다른 아이템 추천\n",
        "\n",
        "\n",
        "##03 최근접 이웃 협업 필터링\n",
        "- 사용자가 아이템에 매긴 평점 정보나 상품 구매 이력과 같은 사용자 행동 양식만을 기반으로 추천을 수행\n",
        "- 사용자-아이템 평점 매트릭스와 같은 축적된 사용자 행동 데이터를 기반으로 사용자가 아직 평가하지 않은 아이템을 예측 평가\n",
        "- 행은 개별 사용자, 열은 개별 아이템\n",
        "- 사용자-아이템 평점 행렬은 많은 아이템을 열로 가지는 다차원 행렬이며 사용자가 아이템에 대한 평점을 매기는 경우가 많지 않기 때문에 희소 행렬\n",
        "- 사용자 기반 : 당신과 비슷한 고객들이 다음 상품도 구매했습니다\n",
        "- 아이템 기반 : 이 상품을 선택한 다른 고객들은 다음 상품도 구매했습니다\n",
        "- 특정 사용자와 타 사용자 간의 유사도를 측정한 뒤 가장 유사도가 높은 TOP-N 사용자를 추출해 그들이 선호하는 아이템을 추천하는 것\n",
        "- 일반적으로 사용자 기반 보다 아이템 기반 협업 필터링이 정확도가 높음\n",
        "- 코사인 유사도 주로 이용\n",
        "\n",
        "\n",
        "##04 잠재 요인 협업 필터링\n",
        "###잠재 요인 협업 필터링의 이해\n",
        "- 사용자-아이템 평점 매트릭스 속에 숨어 있는 잠재 요인을 추출해 추천 예측\n",
        "- 행렬 분해 : SVD와 같은 차원 감소 기법으로 분해하는 과정에서 잠재 요인을 추출\n",
        "- 다차원 희소 행렬인 사용자-아이템 행렬 데이터를 저차원 밀집 행렬의 사용자-잠재 요인 행렬과 사용자-잠재 요인 행렬의 전치 행렬로 분해, 이 두 행렬의 내적을 통해 새로운 예측 사용자-아이템 평점 행렬 데이터를 생성, 사용자가 아직 평점을 부여하지 않는 아이템에 대한 예측 평점을 생성\n",
        "###행렬 분해의 이해\n",
        "- M개의 사용자 행과 N개의 아이템 열을 가진 행렬 R은 행렬 분해를 통해 사용자-K차원 잠재 요인 행렬 P와 잠재 요인-아이템 행렬 Q.T로 분해\n",
        "- 주로 SVD 방식을 이용하여 R 행렬을 P와 Q 행렬로 분해하지만 NaN 값이 없는 행렬에만 적용 가능\n",
        "- 확률적 경사 하강법이나 ALS 방식을 이용해 SVD 수행\n",
        "###확률적 경사 하강법을 이용한 행렬 분해\n",
        "- P와 Q 행렬로 계산된 예측 R 행렬 값이 실제 R 행렬 값과 가장 최소의 오류를 가질 수 있도록 반복적인 비용 함수 최적화를 통해 P와 Q를 유추해내는 것"
      ],
      "metadata": {
        "id": "V_FMuIgSaUSs"
      }
    },
    {
      "cell_type": "code",
      "execution_count": 2,
      "metadata": {
        "id": "wWPnmbgdZrdT"
      },
      "outputs": [],
      "source": [
        "import numpy as np\n",
        "\n",
        "# 원본 행렬 R 생성, 분해 행렬 P와 Q 초기화, 잠재 요인 차원 K는 3으로 설정.\n",
        "R = np.array([[4, np.NaN, np.NaN, 2, np.NaN],\n",
        "              [np.NaN, 5, np.NaN, 3, 1],\n",
        "              [np.NaN, np.NaN, 3, 4, 4],\n",
        "              [5, 2, 1, 2, np.NaN]])\n",
        "num_users, num_items = R.shape\n",
        "K=3\n",
        "\n",
        "# P와 Q 행렬의 크기를 지정하고 정규 분포를 가진 임의의 값으로 입력합니다.\n",
        "np.random.seed(1)\n",
        "P = np.random.normal(scale=1./K, size=(num_users,K))\n",
        "Q = np.random.normal(scale=1./K, size=(num_items,K))"
      ]
    },
    {
      "cell_type": "code",
      "source": [
        "# 실제 R 행렬과 예측 행렬의 오차를 구하는 함수\n",
        "from sklearn.metrics import mean_squared_error\n",
        "\n",
        "def get_rmse(R, P, Q, non_zeros):\n",
        "  error = 0\n",
        "  # 두 개의 분해된 행렬 P와 Q.T의 내적으로 예측 R 행렬 생성\n",
        "  full_pred_matrix = np.dot(P, Q.T)\n",
        "\n",
        "  # 실제 R 행렬에서 널이 아닌 값의 위치 인덱스 추출해 실제 R 행렬과 예측 행렬의 RMSE 추출\n",
        "  x_non_zero_ind = [non_zero[0] for non_zero in non_zeros]\n",
        "  y_non_zero_ind = [non_zero[1] for non_zero in non_zeros]\n",
        "  R_non_zeros = R[x_non_zero_ind, y_non_zero_ind]\n",
        "  full_pred_matrix_non_zeros = full_pred_matrix[x_non_zero_ind, y_non_zero_ind]\n",
        "  mse = mean_squared_error(R_non_zeros, full_pred_matrix_non_zeros)\n",
        "  rmse = np.sqrt(mse)\n",
        "\n",
        "  return rmse"
      ],
      "metadata": {
        "id": "D3W0zPFJk98S"
      },
      "execution_count": 3,
      "outputs": []
    },
    {
      "cell_type": "code",
      "source": [
        "# SGD 기반으로 행렬 분해\n",
        "\n",
        "# R > 0인 행 위치, 열 위치, 값을 non_zeros 리스트에 저장\n",
        "non_zeros = [ (i, j, R[i, j]) for i in range(num_users) for j in range(num_items) if R[i, j] > 0 ]\n",
        "\n",
        "steps = 1000\n",
        "learning_rate = 0.01\n",
        "r_lambda = 0.01\n",
        "\n",
        "# SGD 기법으로 P와 Q 매트릭스를 계속 업데이트\n",
        "for step in range(steps):\n",
        "  for i, j, r in non_zeros:\n",
        "    # 실제 값과 예측 값의 차이인 오류 값 구함\n",
        "    eij = r - np.dot(P[i, :], Q[j, :].T)\n",
        "    # Regularization을 반영한 SGD 업데이트 공식 적용\n",
        "    P[i, :] = P[i, :] + learning_rate * (eij * Q[j, :] - r_lambda * P[i, :])\n",
        "    Q[j, :] = Q[j, :] + learning_rate * (eij * P[i, :] - r_lambda * Q[j, :])\n",
        "  rmse = get_rmse(R, P, Q, non_zeros)\n",
        "  if (step % 50) == 0:\n",
        "    print('### iteration step:', step, 'rmse:', rmse)"
      ],
      "metadata": {
        "colab": {
          "base_uri": "https://localhost:8080/"
        },
        "id": "3GHeZoqioNyL",
        "outputId": "c80977d7-c3f0-4f19-ddd4-695a42595610"
      },
      "execution_count": 4,
      "outputs": [
        {
          "output_type": "stream",
          "name": "stdout",
          "text": [
            "### iteration step: 0 rmse: 3.2388050277987723\n",
            "### iteration step: 50 rmse: 0.4876723101369648\n",
            "### iteration step: 100 rmse: 0.1564340384819247\n",
            "### iteration step: 150 rmse: 0.07455141311978046\n",
            "### iteration step: 200 rmse: 0.04325226798579314\n",
            "### iteration step: 250 rmse: 0.029248328780878973\n",
            "### iteration step: 300 rmse: 0.022621116143829466\n",
            "### iteration step: 350 rmse: 0.019493636196525135\n",
            "### iteration step: 400 rmse: 0.018022719092132704\n",
            "### iteration step: 450 rmse: 0.01731968595344266\n",
            "### iteration step: 500 rmse: 0.016973657887570753\n",
            "### iteration step: 550 rmse: 0.016796804595895633\n",
            "### iteration step: 600 rmse: 0.01670132290188466\n",
            "### iteration step: 650 rmse: 0.01664473691247669\n",
            "### iteration step: 700 rmse: 0.016605910068210026\n",
            "### iteration step: 750 rmse: 0.016574200475705\n",
            "### iteration step: 800 rmse: 0.01654431582921597\n",
            "### iteration step: 850 rmse: 0.01651375177473524\n",
            "### iteration step: 900 rmse: 0.01648146573819501\n",
            "### iteration step: 950 rmse: 0.016447171683479155\n"
          ]
        }
      ]
    },
    {
      "cell_type": "code",
      "source": [
        "# P * Q.T\n",
        "pred_matrix = np.dot(P,Q.T)\n",
        "print('예측 행렬:\\n', np.round(pred_matrix, 3))"
      ],
      "metadata": {
        "colab": {
          "base_uri": "https://localhost:8080/"
        },
        "id": "w-leytg6oeYq",
        "outputId": "d86e4a65-422d-4829-e9b6-2172032846ac"
      },
      "execution_count": 5,
      "outputs": [
        {
          "output_type": "stream",
          "name": "stdout",
          "text": [
            "예측 행렬:\n",
            " [[3.991 0.897 1.306 2.002 1.663]\n",
            " [6.696 4.978 0.979 2.981 1.003]\n",
            " [6.677 0.391 2.987 3.977 3.986]\n",
            " [4.968 2.005 1.006 2.017 1.14 ]]\n"
          ]
        }
      ]
    }
  ]
}