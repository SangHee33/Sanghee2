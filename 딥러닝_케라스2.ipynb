{
  "nbformat": 4,
  "nbformat_minor": 0,
  "metadata": {
    "colab": {
      "provenance": [],
      "authorship_tag": "ABX9TyOhGfwYADBS2N0rShCjJjO1",
      "include_colab_link": true
    },
    "kernelspec": {
      "name": "python3",
      "display_name": "Python 3"
    },
    "language_info": {
      "name": "python"
    }
  },
  "cells": [
    {
      "cell_type": "markdown",
      "metadata": {
        "id": "view-in-github",
        "colab_type": "text"
      },
      "source": [
        "<a href=\"https://colab.research.google.com/github/SangHee33/Sanghee2/blob/main/%EB%94%A5%EB%9F%AC%EB%8B%9D_%EC%BC%80%EB%9D%BC%EC%8A%A42.ipynb\" target=\"_parent\"><img src=\"https://colab.research.google.com/assets/colab-badge.svg\" alt=\"Open In Colab\"/></a>"
      ]
    },
    {
      "cell_type": "markdown",
      "source": [
        "p. 87 ~ 95, 105 ~ 115"
      ],
      "metadata": {
        "id": "xhGd8VafJrXT"
      }
    },
    {
      "cell_type": "markdown",
      "source": [
        "##04 모델 세부 설정"
      ],
      "metadata": {
        "id": "rbkwxm5NJuKo"
      }
    },
    {
      "cell_type": "code",
      "execution_count": 1,
      "metadata": {
        "colab": {
          "base_uri": "https://localhost:8080/"
        },
        "id": "ynInVvXcJMpG",
        "outputId": "585d37d2-b240-4128-c5ad-7f9d6230e583"
      },
      "outputs": [
        {
          "output_type": "stream",
          "name": "stdout",
          "text": [
            "Downloading data from https://storage.googleapis.com/tensorflow/tf-keras-datasets/mnist.npz\n",
            "11490434/11490434 [==============================] - 0s 0us/step\n",
            "train set: (60000, 28, 28) (60000,)\n",
            "test set: (10000, 28, 28) (10000,)\n"
          ]
        }
      ],
      "source": [
        "import tensorflow as tf\n",
        "\n",
        "# 케라스의 내장 데이터셋에서 mnist 데이터 로드\n",
        "mnist = tf.keras.datasets.mnist\n",
        "\n",
        "# load_data()로 데이터셋 로드\n",
        "(x_train, y_train), (x_test, y_test)=mnist.load_data()\n",
        "\n",
        "# 로드된 데이터셋 확인\n",
        "print('train set:', x_train.shape, y_train.shape)\n",
        "print('test set:', x_test.shape, y_test.shape)\n",
        "\n",
        "# 데이터 정규화\n",
        "x_train = x_train/x_train.max()  # max:255\n",
        "x_test = x_test/x_test.max()  # max:255"
      ]
    },
    {
      "cell_type": "markdown",
      "source": [
        "###4-1 초기값 설정"
      ],
      "metadata": {
        "id": "c4pZG_vOKn_H"
      }
    },
    {
      "cell_type": "code",
      "source": [
        "# 기본 초기화 방법 : Glorot Uniform 초기화 방법\n",
        "dense = tf.keras.layers.Dense(256, activation='relu')\n",
        "dense.get_config()['kernel_initializer']"
      ],
      "metadata": {
        "colab": {
          "base_uri": "https://localhost:8080/"
        },
        "id": "A9WdtIpXKm59",
        "outputId": "53d58c2c-fc22-4ec9-8134-ccd06067f6ae"
      },
      "execution_count": 2,
      "outputs": [
        {
          "output_type": "execute_result",
          "data": {
            "text/plain": [
              "{'module': 'keras.initializers',\n",
              " 'class_name': 'GlorotUniform',\n",
              " 'config': {'seed': None},\n",
              " 'registered_name': None}"
            ]
          },
          "metadata": {},
          "execution_count": 2
        }
      ]
    },
    {
      "cell_type": "code",
      "source": [
        "# GlorotUniform 초기화 방법을 HeNormal로 변경하기 위해서 kernel_initializer 매개변수에 설정\n",
        "\n",
        "# 문자열 초기화\n",
        "dense = tf.keras.layers.Dense(256, kernel_initializer='he_normal', activation='relu')\n",
        "print(dense.get_config()['kernel_initializer'])\n",
        "\n",
        "# 클래스 인스턴스 초기화\n",
        "he_normal = tf.keras.initializers.HeNormal()\n",
        "dense = tf.keras.layers.Dense(256, kernel_initializer=he_normal, activation='relu')\n",
        "print(dense.get_config()['kernel_initializer'])"
      ],
      "metadata": {
        "colab": {
          "base_uri": "https://localhost:8080/"
        },
        "id": "6t1SnRaxK4-V",
        "outputId": "ab328d76-8155-48de-de1f-d963eac32c8d"
      },
      "execution_count": 3,
      "outputs": [
        {
          "output_type": "stream",
          "name": "stdout",
          "text": [
            "{'module': 'keras.initializers', 'class_name': 'HeNormal', 'config': {'seed': None}, 'registered_name': None}\n",
            "{'module': 'keras.initializers', 'class_name': 'HeNormal', 'config': {'seed': None}, 'registered_name': None}\n"
          ]
        }
      ]
    },
    {
      "cell_type": "markdown",
      "source": [
        "###4-2 규제(Regularization)\n",
        "- 모델의 과대적합을 해소하기 위해 L1, L2 규제를 적용"
      ],
      "metadata": {
        "id": "lWbpALOWLPeE"
      }
    },
    {
      "cell_type": "code",
      "source": [
        "# 기본값 = None\n",
        "dense = tf.keras.layers.Dense(256, activation='relu')\n",
        "dense.get_config()"
      ],
      "metadata": {
        "colab": {
          "base_uri": "https://localhost:8080/"
        },
        "id": "unzac1JVLNv5",
        "outputId": "b59ed3f6-9a11-4195-e53d-9d4a2deef3da"
      },
      "execution_count": 4,
      "outputs": [
        {
          "output_type": "execute_result",
          "data": {
            "text/plain": [
              "{'name': 'dense_3',\n",
              " 'trainable': True,\n",
              " 'dtype': 'float32',\n",
              " 'units': 256,\n",
              " 'activation': 'relu',\n",
              " 'use_bias': True,\n",
              " 'kernel_initializer': {'module': 'keras.initializers',\n",
              "  'class_name': 'GlorotUniform',\n",
              "  'config': {'seed': None},\n",
              "  'registered_name': None},\n",
              " 'bias_initializer': {'module': 'keras.initializers',\n",
              "  'class_name': 'Zeros',\n",
              "  'config': {},\n",
              "  'registered_name': None},\n",
              " 'kernel_regularizer': None,\n",
              " 'bias_regularizer': None,\n",
              " 'activity_regularizer': None,\n",
              " 'kernel_constraint': None,\n",
              " 'bias_constraint': None}"
            ]
          },
          "metadata": {},
          "execution_count": 4
        }
      ]
    },
    {
      "cell_type": "code",
      "source": [
        "# L1 규제 적용\n",
        "dense = tf.keras.layers.Dense(256, kernel_regularizer='l1', activation='relu')\n",
        "print(dense.get_config()['kernel_regularizer'])\n",
        "\n",
        "# 클래스 인스턴스 적용, alpha=0.1 변경\n",
        "regularizer = tf.keras.regularizers.l1(l1=0.1)\n",
        "dense = tf.keras.layers.Dense(256, kernel_regularizer=regularizer, activation='relu')\n",
        "print(dense.get_config()['kernel_regularizer'])"
      ],
      "metadata": {
        "colab": {
          "base_uri": "https://localhost:8080/"
        },
        "id": "6tGil4ioLxa0",
        "outputId": "23d2ce8d-dda1-4e15-d83d-4d746a9d1578"
      },
      "execution_count": 5,
      "outputs": [
        {
          "output_type": "stream",
          "name": "stdout",
          "text": [
            "{'module': 'keras.regularizers', 'class_name': 'L1', 'config': {'l1': 0.009999999776482582}, 'registered_name': None}\n",
            "{'module': 'keras.regularizers', 'class_name': 'L1', 'config': {'l1': 0.10000000149011612}, 'registered_name': None}\n"
          ]
        }
      ]
    },
    {
      "cell_type": "markdown",
      "source": [
        "###4-3 드롭아웃(Dropout)\n",
        "- 딥러닝 모델의 가장 큰 문제는 과대적합 문제\n",
        "- 드롭아웃은 과대적합 문제를 해결\n",
        "- 노드의 일부 신호를 임의로 삭제하게 되면 모델이 과대적합 되는 것을 방지, 가중치 파라미터의 개수가 현저하게 줄어듦\n",
        "- 훈련 시점에는 드롭아웃이 적용되어 노드 중 일부만 훈련, 예측 시점에는 모든 노드들이 활용"
      ],
      "metadata": {
        "id": "iNMr8HKgL9KR"
      }
    },
    {
      "cell_type": "code",
      "source": [
        "# dropout 25% 비율 적용 (25% 노드가 삭제)\n",
        "tf.keras.layers.Dropout(0.25)"
      ],
      "metadata": {
        "colab": {
          "base_uri": "https://localhost:8080/"
        },
        "id": "Fr8xx1eFL_vB",
        "outputId": "a3808473-9ea2-415a-f445-48a3f86cb9ba"
      },
      "execution_count": 6,
      "outputs": [
        {
          "output_type": "execute_result",
          "data": {
            "text/plain": [
              "<keras.src.layers.regularization.dropout.Dropout at 0x7a69d23f1510>"
            ]
          },
          "metadata": {},
          "execution_count": 6
        }
      ]
    },
    {
      "cell_type": "markdown",
      "source": [
        "###4-4 배치 정규화(Batch Normalization)\n",
        "각 층에서 활성화 함수를 통과하기 전 미니 배치의 스케일을 정규화\n",
        "- 안정적인 훈련 가능, 성능 향상"
      ],
      "metadata": {
        "id": "-_Y7gjlPMbr4"
      }
    },
    {
      "cell_type": "code",
      "source": [
        "# model A : Dense + ReLu\n",
        "model_a = tf.keras.Sequential([\n",
        "    tf.keras.layers.Flatten(input_shape=(28, 28)),\n",
        "    tf.keras.layers.Dense(64, activation='relu'),\n",
        "    tf.keras.layers.Dense(32, activation='relu'),\n",
        "    tf.keras.layers.Dense(10, activation='softmax')\n",
        "])\n",
        "model_a.summary()"
      ],
      "metadata": {
        "colab": {
          "base_uri": "https://localhost:8080/"
        },
        "id": "v-yZ8Ey1L8W8",
        "outputId": "d8667025-c2df-48a5-afdb-687236930682"
      },
      "execution_count": 7,
      "outputs": [
        {
          "output_type": "stream",
          "name": "stdout",
          "text": [
            "Model: \"sequential\"\n",
            "_________________________________________________________________\n",
            " Layer (type)                Output Shape              Param #   \n",
            "=================================================================\n",
            " flatten (Flatten)           (None, 784)               0         \n",
            "                                                                 \n",
            " dense_6 (Dense)             (None, 64)                50240     \n",
            "                                                                 \n",
            " dense_7 (Dense)             (None, 32)                2080      \n",
            "                                                                 \n",
            " dense_8 (Dense)             (None, 10)                330       \n",
            "                                                                 \n",
            "=================================================================\n",
            "Total params: 52650 (205.66 KB)\n",
            "Trainable params: 52650 (205.66 KB)\n",
            "Non-trainable params: 0 (0.00 Byte)\n",
            "_________________________________________________________________\n"
          ]
        }
      ]
    },
    {
      "cell_type": "code",
      "source": [
        "# model B : Dense + BatchNorm+ReLU\n",
        "model_b = tf.keras.Sequential([\n",
        "    tf.keras.layers.Flatten(input_shape=(28, 28)),\n",
        "    tf.keras.layers.Dense(64),\n",
        "    # 배치 정규화 적용\n",
        "    tf.keras.layers.BatchNormalization(),\n",
        "    # 배치 정규화 후 활성화 함수 적용\n",
        "    tf.keras.layers.Activation('relu'),\n",
        "\n",
        "    tf.keras.layers.Dense(32),\n",
        "    # 배치 정규화 적용\n",
        "    tf.keras.layers.BatchNormalization(),\n",
        "    # 배치 정규화 후 활성화 함수 적용\n",
        "    tf.keras.layers.Activation('relu'),\n",
        "\n",
        "    tf.keras.layers.Dense(10, activation='softmax')\n",
        "])\n",
        "model_b.summary()"
      ],
      "metadata": {
        "colab": {
          "base_uri": "https://localhost:8080/"
        },
        "id": "FtVA7VULMyD6",
        "outputId": "86020101-214c-45e1-b212-570874e9c6a6"
      },
      "execution_count": 8,
      "outputs": [
        {
          "output_type": "stream",
          "name": "stdout",
          "text": [
            "Model: \"sequential_1\"\n",
            "_________________________________________________________________\n",
            " Layer (type)                Output Shape              Param #   \n",
            "=================================================================\n",
            " flatten_1 (Flatten)         (None, 784)               0         \n",
            "                                                                 \n",
            " dense_9 (Dense)             (None, 64)                50240     \n",
            "                                                                 \n",
            " batch_normalization (Batch  (None, 64)                256       \n",
            " Normalization)                                                  \n",
            "                                                                 \n",
            " activation (Activation)     (None, 64)                0         \n",
            "                                                                 \n",
            " dense_10 (Dense)            (None, 32)                2080      \n",
            "                                                                 \n",
            " batch_normalization_1 (Bat  (None, 32)                128       \n",
            " chNormalization)                                                \n",
            "                                                                 \n",
            " activation_1 (Activation)   (None, 32)                0         \n",
            "                                                                 \n",
            " dense_11 (Dense)            (None, 10)                330       \n",
            "                                                                 \n",
            "=================================================================\n",
            "Total params: 53034 (207.16 KB)\n",
            "Trainable params: 52842 (206.41 KB)\n",
            "Non-trainable params: 192 (768.00 Byte)\n",
            "_________________________________________________________________\n"
          ]
        }
      ]
    },
    {
      "cell_type": "markdown",
      "source": [
        "###4-5 활성화(activation) 함수\n",
        "ReLU 활성화 함수 외에도 케라스가 지원하는 다른 활성화 함수 적용 가능\n"
      ],
      "metadata": {
        "id": "BVWLMKPPNHUt"
      }
    },
    {
      "cell_type": "code",
      "source": [
        "# LeakyReLU 기본 설정\n",
        "tf.keras.layers.LeakyReLU()\n",
        "\n",
        "# LeakyReLU, alpha=0.2로 변경\n",
        "tf.keras.layers.LeakyReLU(alpha=0.2)"
      ],
      "metadata": {
        "colab": {
          "base_uri": "https://localhost:8080/"
        },
        "id": "CHIinTXFNUmu",
        "outputId": "17f6e5dd-fb6f-46f4-9cf0-b751512af0ac"
      },
      "execution_count": 9,
      "outputs": [
        {
          "output_type": "execute_result",
          "data": {
            "text/plain": [
              "<keras.src.layers.activation.leaky_relu.LeakyReLU at 0x7a69d1aec5e0>"
            ]
          },
          "metadata": {},
          "execution_count": 9
        }
      ]
    },
    {
      "cell_type": "code",
      "source": [
        "# model C : Dense + BatchNorm + LeakyReLU(0.2)\n",
        "model_c = tf.keras.Sequential([\n",
        "    tf.keras.layers.Flatten(input_shape=(28, 28)),\n",
        "    tf.keras.layers.Dense(64),\n",
        "    # 배치 정규화 적용\n",
        "    tf.keras.layers.BatchNormalization(),\n",
        "    # LeakyReLU, alpha=0.2 적용\n",
        "    tf.keras.layers.LeakyReLU(alpha=0.2),\n",
        "\n",
        "    tf.keras.layers.Dense(32),\n",
        "    # 배치 정규화 적용\n",
        "    tf.keras.layers.BatchNormalization(),\n",
        "    # LeakyReLU, alpha=0.2 적용\n",
        "    tf.keras.layers.LeakyReLU(alpha=0.2),\n",
        "\n",
        "    tf.keras.layers.Dense(10, activation='softmax')\n",
        "])\n",
        "\n",
        "# 모델 요약\n",
        "model_c.summary()"
      ],
      "metadata": {
        "colab": {
          "base_uri": "https://localhost:8080/"
        },
        "id": "VL0P0ak5NBHd",
        "outputId": "485ecd45-5b01-405e-ecd6-41228893c796"
      },
      "execution_count": 10,
      "outputs": [
        {
          "output_type": "stream",
          "name": "stdout",
          "text": [
            "Model: \"sequential_2\"\n",
            "_________________________________________________________________\n",
            " Layer (type)                Output Shape              Param #   \n",
            "=================================================================\n",
            " flatten_2 (Flatten)         (None, 784)               0         \n",
            "                                                                 \n",
            " dense_12 (Dense)            (None, 64)                50240     \n",
            "                                                                 \n",
            " batch_normalization_2 (Bat  (None, 64)                256       \n",
            " chNormalization)                                                \n",
            "                                                                 \n",
            " leaky_re_lu_2 (LeakyReLU)   (None, 64)                0         \n",
            "                                                                 \n",
            " dense_13 (Dense)            (None, 32)                2080      \n",
            "                                                                 \n",
            " batch_normalization_3 (Bat  (None, 32)                128       \n",
            " chNormalization)                                                \n",
            "                                                                 \n",
            " leaky_re_lu_3 (LeakyReLU)   (None, 32)                0         \n",
            "                                                                 \n",
            " dense_14 (Dense)            (None, 10)                330       \n",
            "                                                                 \n",
            "=================================================================\n",
            "Total params: 53034 (207.16 KB)\n",
            "Trainable params: 52842 (206.41 KB)\n",
            "Non-trainable params: 192 (768.00 Byte)\n",
            "_________________________________________________________________\n"
          ]
        }
      ]
    },
    {
      "cell_type": "markdown",
      "source": [
        "- model a : Dense 레이어 + ReLU\n",
        "- model b : Dense 레이어 + 배치 정규화\n",
        "- model c : Dense 레이어 + 배치 정규화 + LeakyReLU"
      ],
      "metadata": {
        "id": "RprvzS51NpXU"
      }
    },
    {
      "cell_type": "code",
      "source": [
        "# 3개의 모델의 수렴 속도\n",
        "model_a.compile(optimizer='adam', loss='sparse_categorical_crossentropy', metrics=['accuracy'])\n",
        "model_b.compile(optimizer='adam', loss='sparse_categorical_crossentropy', metrics=['accuracy'])\n",
        "model_c.compile(optimizer='adam', loss='sparse_categorical_crossentropy', metrics=['accuracy'])\n",
        "\n",
        "# Model A : Dense + ReLU\n",
        "history_a = model_a.fit(x_train, y_train,\n",
        "                      validation_data=(x_test, y_test),\n",
        "                      epochs=10)\n",
        "\n",
        "# Model B : Dense + BatchNorm + ReLU\n",
        "history_b = model_b.fit(x_train, y_train,\n",
        "                      validation_data=(x_test, y_test),\n",
        "                        epochs=10)\n",
        "\n",
        "# Model C : Dense + BatchNorm + LeakyReLU(0,2)\n",
        "history_c = model_c.fit(x_train, y_train,\n",
        "                      validation_data=(x_test, y_test),\n",
        "                        epochs=10)"
      ],
      "metadata": {
        "colab": {
          "base_uri": "https://localhost:8080/"
        },
        "id": "MUKNHnmVNlpf",
        "outputId": "55b80ae8-08f1-4cbf-a25b-623eb678d644"
      },
      "execution_count": 11,
      "outputs": [
        {
          "output_type": "stream",
          "name": "stdout",
          "text": [
            "Epoch 1/10\n",
            "1875/1875 [==============================] - 12s 5ms/step - loss: 0.2995 - accuracy: 0.9130 - val_loss: 0.1533 - val_accuracy: 0.9541\n",
            "Epoch 2/10\n",
            "1875/1875 [==============================] - 27s 14ms/step - loss: 0.1322 - accuracy: 0.9599 - val_loss: 0.1136 - val_accuracy: 0.9637\n",
            "Epoch 3/10\n",
            "1875/1875 [==============================] - 10s 6ms/step - loss: 0.0977 - accuracy: 0.9705 - val_loss: 0.0973 - val_accuracy: 0.9700\n",
            "Epoch 4/10\n",
            "1875/1875 [==============================] - 8s 4ms/step - loss: 0.0780 - accuracy: 0.9769 - val_loss: 0.1045 - val_accuracy: 0.9680\n",
            "Epoch 5/10\n",
            "1875/1875 [==============================] - 10s 5ms/step - loss: 0.0640 - accuracy: 0.9798 - val_loss: 0.0942 - val_accuracy: 0.9708\n",
            "Epoch 6/10\n",
            "1875/1875 [==============================] - 10s 5ms/step - loss: 0.0553 - accuracy: 0.9825 - val_loss: 0.0928 - val_accuracy: 0.9723\n",
            "Epoch 7/10\n",
            "1875/1875 [==============================] - 9s 5ms/step - loss: 0.0463 - accuracy: 0.9848 - val_loss: 0.0903 - val_accuracy: 0.9758\n",
            "Epoch 8/10\n",
            "1875/1875 [==============================] - 10s 5ms/step - loss: 0.0389 - accuracy: 0.9875 - val_loss: 0.0935 - val_accuracy: 0.9727\n",
            "Epoch 9/10\n",
            "1875/1875 [==============================] - 10s 5ms/step - loss: 0.0343 - accuracy: 0.9888 - val_loss: 0.0935 - val_accuracy: 0.9759\n",
            "Epoch 10/10\n",
            "1875/1875 [==============================] - 15s 8ms/step - loss: 0.0295 - accuracy: 0.9904 - val_loss: 0.1059 - val_accuracy: 0.9745\n",
            "Epoch 1/10\n",
            "1875/1875 [==============================] - 15s 7ms/step - loss: 0.3166 - accuracy: 0.9146 - val_loss: 0.1289 - val_accuracy: 0.9607\n",
            "Epoch 2/10\n",
            "1875/1875 [==============================] - 13s 7ms/step - loss: 0.1391 - accuracy: 0.9570 - val_loss: 0.0969 - val_accuracy: 0.9701\n",
            "Epoch 3/10\n",
            "1875/1875 [==============================] - 12s 6ms/step - loss: 0.1090 - accuracy: 0.9664 - val_loss: 0.0840 - val_accuracy: 0.9727\n",
            "Epoch 4/10\n",
            "1875/1875 [==============================] - 12s 6ms/step - loss: 0.0931 - accuracy: 0.9704 - val_loss: 0.0788 - val_accuracy: 0.9749\n",
            "Epoch 5/10\n",
            "1875/1875 [==============================] - 12s 6ms/step - loss: 0.0819 - accuracy: 0.9740 - val_loss: 0.0746 - val_accuracy: 0.9768\n",
            "Epoch 6/10\n",
            "1875/1875 [==============================] - 14s 8ms/step - loss: 0.0747 - accuracy: 0.9757 - val_loss: 0.0816 - val_accuracy: 0.9752\n",
            "Epoch 7/10\n",
            "1875/1875 [==============================] - 15s 8ms/step - loss: 0.0672 - accuracy: 0.9780 - val_loss: 0.0854 - val_accuracy: 0.9765\n",
            "Epoch 8/10\n",
            "1875/1875 [==============================] - 13s 7ms/step - loss: 0.0618 - accuracy: 0.9803 - val_loss: 0.0810 - val_accuracy: 0.9755\n",
            "Epoch 9/10\n",
            "1875/1875 [==============================] - 18s 9ms/step - loss: 0.0576 - accuracy: 0.9807 - val_loss: 0.0762 - val_accuracy: 0.9781\n",
            "Epoch 10/10\n",
            "1875/1875 [==============================] - 15s 8ms/step - loss: 0.0544 - accuracy: 0.9820 - val_loss: 0.0782 - val_accuracy: 0.9763\n",
            "Epoch 1/10\n",
            "1875/1875 [==============================] - 17s 8ms/step - loss: 0.3202 - accuracy: 0.9114 - val_loss: 0.1482 - val_accuracy: 0.9563\n",
            "Epoch 2/10\n",
            "1875/1875 [==============================] - 16s 8ms/step - loss: 0.1539 - accuracy: 0.9528 - val_loss: 0.1193 - val_accuracy: 0.9631\n",
            "Epoch 3/10\n",
            "1875/1875 [==============================] - 17s 9ms/step - loss: 0.1215 - accuracy: 0.9622 - val_loss: 0.1009 - val_accuracy: 0.9685\n",
            "Epoch 4/10\n",
            "1875/1875 [==============================] - 17s 9ms/step - loss: 0.1035 - accuracy: 0.9681 - val_loss: 0.0901 - val_accuracy: 0.9719\n",
            "Epoch 5/10\n",
            "1875/1875 [==============================] - 20s 10ms/step - loss: 0.0910 - accuracy: 0.9723 - val_loss: 0.0953 - val_accuracy: 0.9712\n",
            "Epoch 6/10\n",
            "1875/1875 [==============================] - 12s 7ms/step - loss: 0.0826 - accuracy: 0.9737 - val_loss: 0.0985 - val_accuracy: 0.9679\n",
            "Epoch 7/10\n",
            "1875/1875 [==============================] - 13s 7ms/step - loss: 0.0754 - accuracy: 0.9755 - val_loss: 0.0830 - val_accuracy: 0.9754\n",
            "Epoch 8/10\n",
            "1875/1875 [==============================] - 12s 6ms/step - loss: 0.0730 - accuracy: 0.9767 - val_loss: 0.0862 - val_accuracy: 0.9732\n",
            "Epoch 9/10\n",
            "1875/1875 [==============================] - 11s 6ms/step - loss: 0.0668 - accuracy: 0.9786 - val_loss: 0.0833 - val_accuracy: 0.9763\n",
            "Epoch 10/10\n",
            "1875/1875 [==============================] - 9s 5ms/step - loss: 0.0625 - accuracy: 0.9801 - val_loss: 0.0841 - val_accuracy: 0.9751\n"
          ]
        }
      ]
    },
    {
      "cell_type": "code",
      "source": [
        "# 시각화\n",
        "import matplotlib.pyplot as plt\n",
        "import numpy as np\n",
        "\n",
        "plt.figure(figsize=(12, 9))\n",
        "plt.plot(np.arange(1, 11), history_a.history['val_loss'], color='navy', linestyle=':')\n",
        "plt.plot(np.arange(1, 11), history_b.history['val_loss'], color='tomato', linestyle='-.')\n",
        "plt.plot(np.arange(1, 11), history_c.history['val_loss'], color='green', linestyle='-')\n",
        "\n",
        "plt.title('Losses', fontsize=20)\n",
        "plt.xlabel('epochs')\n",
        "plt.ylabel('Losses')\n",
        "plt.legend(['ReLU', 'BatchNorm+ReLU', 'BatchNorm+LeakyReLU'], fontsize=12)\n",
        "plt.show()"
      ],
      "metadata": {
        "colab": {
          "base_uri": "https://localhost:8080/",
          "height": 803
        },
        "id": "Hio66NSRN613",
        "outputId": "908e5d78-f260-43b3-b342-8c2bc11e5550"
      },
      "execution_count": 12,
      "outputs": [
        {
          "output_type": "display_data",
          "data": {
            "text/plain": [
              "<Figure size 1200x900 with 1 Axes>"
            ],
            "image/png": "[encoded data removed]"
          },
          "metadata": {}
        }
      ]
    },
    {
      "cell_type": "markdown",
      "source": [
        "##06 모델 저장 및 불러오기\n",
        "###6-1 모델을 파일로 저장\n",
        "- save() 메소드를 사용하여 훈련을 종료하여 가중치가 업데이트된 모델 인스턴스를 저장\n",
        " - .h5 확장자를 포함하는 경우는 모델이 HDF5 포맷으로 저장 (대용량의 데이터를 저장하기 위한 파일 형식)\n",
        ""
      ],
      "metadata": {
        "id": "63qVz6-fOVE_"
      }
    },
    {
      "cell_type": "code",
      "source": [
        "# 모델을 h5 포맷으로 저장\n",
        "model_b.save('h5-model.h5')"
      ],
      "metadata": {
        "colab": {
          "base_uri": "https://localhost:8080/"
        },
        "id": "ldo0wcxqOC-I",
        "outputId": "794a2e07-5db0-4478-905a-06442d4906fd"
      },
      "execution_count": 13,
      "outputs": [
        {
          "output_type": "stream",
          "name": "stderr",
          "text": [
            "/usr/local/lib/python3.10/dist-packages/keras/src/engine/training.py:3079: UserWarning: You are saving your model as an HDF5 file via `model.save()`. This file format is considered legacy. We recommend using instead the native Keras format, e.g. `model.save('my_model.keras')`.\n",
            "  saving_api.save_model(\n"
          ]
        }
      ]
    },
    {
      "cell_type": "markdown",
      "source": [
        "###6-2 저장된 모델 복원\n",
        "- tensorflow.kerase.models.load_model() 메소드로 저장된 모델 복원"
      ],
      "metadata": {
        "id": "_DLhpbi-PDte"
      }
    },
    {
      "cell_type": "code",
      "source": [
        "# 모델 복원\n",
        "h5_model = tf.keras.models.load_model('h5-model.h5')\n",
        "h5_model.summary()"
      ],
      "metadata": {
        "colab": {
          "base_uri": "https://localhost:8080/"
        },
        "id": "uT1-7qP0PCNG",
        "outputId": "da49fdfb-db49-4f12-baf1-24beada4905a"
      },
      "execution_count": 14,
      "outputs": [
        {
          "output_type": "stream",
          "name": "stdout",
          "text": [
            "Model: \"sequential_1\"\n",
            "_________________________________________________________________\n",
            " Layer (type)                Output Shape              Param #   \n",
            "=================================================================\n",
            " flatten_1 (Flatten)         (None, 784)               0         \n",
            "                                                                 \n",
            " dense_9 (Dense)             (None, 64)                50240     \n",
            "                                                                 \n",
            " batch_normalization (Batch  (None, 64)                256       \n",
            " Normalization)                                                  \n",
            "                                                                 \n",
            " activation (Activation)     (None, 64)                0         \n",
            "                                                                 \n",
            " dense_10 (Dense)            (None, 32)                2080      \n",
            "                                                                 \n",
            " batch_normalization_1 (Bat  (None, 32)                128       \n",
            " chNormalization)                                                \n",
            "                                                                 \n",
            " activation_1 (Activation)   (None, 32)                0         \n",
            "                                                                 \n",
            " dense_11 (Dense)            (None, 10)                330       \n",
            "                                                                 \n",
            "=================================================================\n",
            "Total params: 53034 (207.16 KB)\n",
            "Trainable params: 52842 (206.41 KB)\n",
            "Non-trainable params: 192 (768.00 Byte)\n",
            "_________________________________________________________________\n"
          ]
        }
      ]
    },
    {
      "cell_type": "code",
      "source": [
        "# 모델 검증\n",
        "loss, acc = h5_model.evaluate(x_test, y_test, verbose=0)\n",
        "print(f'h5_model] loss: {loss:.5f}, acc: {acc:.5f}')"
      ],
      "metadata": {
        "colab": {
          "base_uri": "https://localhost:8080/"
        },
        "id": "axC-utmpPOXG",
        "outputId": "4487ede4-5815-4f0c-f4a5-9fa74f4492f6"
      },
      "execution_count": 15,
      "outputs": [
        {
          "output_type": "stream",
          "name": "stdout",
          "text": [
            "h5_model] loss: 0.07818, acc: 0.97630\n"
          ]
        }
      ]
    },
    {
      "cell_type": "code",
      "source": [
        "# 모델을 SavedModel 포맷으로 저장\n",
        "model_b.save('saved-model')"
      ],
      "metadata": {
        "id": "arPBXXUIPSc3"
      },
      "execution_count": 16,
      "outputs": []
    },
    {
      "cell_type": "code",
      "source": [
        "# 모델 복원\n",
        "saved_model = tf.keras.models.load_model('saved-model')\n",
        "saved_model.summary()"
      ],
      "metadata": {
        "colab": {
          "base_uri": "https://localhost:8080/"
        },
        "id": "o1q13R5ZPtD0",
        "outputId": "aa5991d3-5542-4c87-d279-85a7ff61b7ee"
      },
      "execution_count": 17,
      "outputs": [
        {
          "output_type": "stream",
          "name": "stdout",
          "text": [
            "Model: \"sequential_1\"\n",
            "_________________________________________________________________\n",
            " Layer (type)                Output Shape              Param #   \n",
            "=================================================================\n",
            " flatten_1 (Flatten)         (None, 784)               0         \n",
            "                                                                 \n",
            " dense_9 (Dense)             (None, 64)                50240     \n",
            "                                                                 \n",
            " batch_normalization (Batch  (None, 64)                256       \n",
            " Normalization)                                                  \n",
            "                                                                 \n",
            " activation (Activation)     (None, 64)                0         \n",
            "                                                                 \n",
            " dense_10 (Dense)            (None, 32)                2080      \n",
            "                                                                 \n",
            " batch_normalization_1 (Bat  (None, 32)                128       \n",
            " chNormalization)                                                \n",
            "                                                                 \n",
            " activation_1 (Activation)   (None, 32)                0         \n",
            "                                                                 \n",
            " dense_11 (Dense)            (None, 10)                330       \n",
            "                                                                 \n",
            "=================================================================\n",
            "Total params: 53034 (207.16 KB)\n",
            "Trainable params: 52842 (206.41 KB)\n",
            "Non-trainable params: 192 (768.00 Byte)\n",
            "_________________________________________________________________\n"
          ]
        }
      ]
    },
    {
      "cell_type": "code",
      "source": [
        "# 모델 검증(HDF5 포맷)\n",
        "loss, acc = h5_model.evaluate(x_test, y_test, verbose=0)\n",
        "print(f'h5_model] loss: {loss:.5f}, acc: {acc:.5f}')\n",
        "\n",
        "# 모델 검증(SavedModel 포맷)\n",
        "loss, acc = saved_model.evaluate(x_test, y_test, verbose= 0)\n",
        "print(f'saved_model] loss: {loss:.5f}, acc: {acc:.5f}')"
      ],
      "metadata": {
        "colab": {
          "base_uri": "https://localhost:8080/"
        },
        "id": "nznxLW6FPxJO",
        "outputId": "163bcbb1-dcfa-4f83-90b4-414cd9cf42ec"
      },
      "execution_count": 18,
      "outputs": [
        {
          "output_type": "stream",
          "name": "stdout",
          "text": [
            "h5_model] loss: 0.07818, acc: 0.97630\n",
            "saved_model] loss: 0.07818, acc: 0.97630\n"
          ]
        }
      ]
    },
    {
      "cell_type": "markdown",
      "source": [
        "-> 동일한 성능\n",
        "\n",
        "##07 복잡한 모델 생성\n",
        "###7-1 함수형 API(Functional API)\n",
        "- 복잡한 구조의 모델 정의 가능\n",
        "- 다중 입력, 다중 출력, 같은 레벨에 여러 개의 층을 배치하여 입력과 출력을 공유하는 구조도 가능"
      ],
      "metadata": {
        "id": "otbL8-UmP2nd"
      }
    },
    {
      "cell_type": "code",
      "source": [
        "# Sequential API 구현 -> 함수형 API 구현\n",
        "import tensorflow as tf\n",
        "\n",
        "# 모델의 레이어를 체인 구조로 연결 input 레이어 정의\n",
        "input_layer = tf.keras.Input(shape=(28, 28), name='InputLayer')\n",
        "\n",
        "# 모델의 레이어를 체인 구조로 연결\n",
        "x1 = tf.keras.layers.Flatten(name='Flatten')(input_layer)\n",
        "x2 = tf.keras.layers.Dense(256, activation='relu', name='Dense1')(x1)\n",
        "x3 = tf.keras.layers.Dense(64, activation='relu', name='Dense2')(x2)\n",
        "x4 = tf.keras.layers.Dense(10, activation='softmax', name='OutputLayer')(x3)"
      ],
      "metadata": {
        "id": "Cn5XLIK2P1Ff"
      },
      "execution_count": 19,
      "outputs": []
    },
    {
      "cell_type": "code",
      "source": [
        "# 모델 생성\n",
        "func_model = tf.keras.Model(inputs=input_layer, outputs=x4, name='FunctionalModel')\n",
        "\n",
        "# 모델 요약\n",
        "func_model.summary()"
      ],
      "metadata": {
        "colab": {
          "base_uri": "https://localhost:8080/"
        },
        "id": "nFBKx9IUQdPr",
        "outputId": "290d1c24-a565-478d-8ec5-300db079f3e3"
      },
      "execution_count": 20,
      "outputs": [
        {
          "output_type": "stream",
          "name": "stdout",
          "text": [
            "Model: \"FunctionalModel\"\n",
            "_________________________________________________________________\n",
            " Layer (type)                Output Shape              Param #   \n",
            "=================================================================\n",
            " InputLayer (InputLayer)     [(None, 28, 28)]          0         \n",
            "                                                                 \n",
            " Flatten (Flatten)           (None, 784)               0         \n",
            "                                                                 \n",
            " Dense1 (Dense)              (None, 256)               200960    \n",
            "                                                                 \n",
            " Dense2 (Dense)              (None, 64)                16448     \n",
            "                                                                 \n",
            " OutputLayer (Dense)         (None, 10)                650       \n",
            "                                                                 \n",
            "=================================================================\n",
            "Total params: 218058 (851.79 KB)\n",
            "Trainable params: 218058 (851.79 KB)\n",
            "Non-trainable params: 0 (0.00 Byte)\n",
            "_________________________________________________________________\n"
          ]
        }
      ]
    },
    {
      "cell_type": "code",
      "source": [
        "from tensorflow.keras.utils import plot_model\n",
        "\n",
        "# 구조도 시각화\n",
        "plot_model(func_model, show_shapes=True, show_layer_names=True, to_file='model.png')"
      ],
      "metadata": {
        "colab": {
          "base_uri": "https://localhost:8080/",
          "height": 533
        },
        "id": "YU-CNb04QgBZ",
        "outputId": "a1a21405-cb53-447d-c6b5-8c810af0c354"
      },
      "execution_count": 21,
      "outputs": [
        {
          "output_type": "execute_result",
          "data": {
            "image/png": "[encoded data removed]",
            "text/plain": [
              "<IPython.core.display.Image object>"
            ]
          },
          "metadata": {},
          "execution_count": 21
        }
      ]
    },
    {
      "cell_type": "code",
      "source": [
        "# 컴파일\n",
        "func_model.compile(optimizer='adam', loss='sparse_categorical_crossentropy', metrics=['accuracy'])\n",
        "\n",
        "# 훈련\n",
        "func_model.fit(x_train, y_train, epochs=3)\n",
        "\n",
        "# 검증\n",
        "loss, acc = func_model.evaluate(x_test, y_test, verbose=0)\n",
        "print(f'Functional Model] loss: {loss:.5f}, acc: {acc:.5f}')"
      ],
      "metadata": {
        "colab": {
          "base_uri": "https://localhost:8080/"
        },
        "id": "DKIWkDniQlLM",
        "outputId": "c93b59e8-c537-4d0c-dd58-d0fe37f3b17b"
      },
      "execution_count": 22,
      "outputs": [
        {
          "output_type": "stream",
          "name": "stdout",
          "text": [
            "Epoch 1/3\n",
            "1875/1875 [==============================] - 18s 8ms/step - loss: 0.2158 - accuracy: 0.9358\n",
            "Epoch 2/3\n",
            "1875/1875 [==============================] - 19s 10ms/step - loss: 0.0888 - accuracy: 0.9724\n",
            "Epoch 3/3\n",
            "1875/1875 [==============================] - 19s 10ms/step - loss: 0.0616 - accuracy: 0.9810\n",
            "Functional Model] loss: 0.06653, acc: 0.97850\n"
          ]
        }
      ]
    },
    {
      "cell_type": "markdown",
      "source": [
        "###7-2 모델 서브클래싱(Model Subclassing)\n",
        "- Model 클래스를 상속받아 사용자가 직접 서브클래스로 딥러닝 모델 만들 수 있음"
      ],
      "metadata": {
        "id": "K0ZNjux5QxK5"
      }
    },
    {
      "cell_type": "code",
      "source": [
        "class MyModel(tf.keras.Model):\n",
        "  def __init__(self):\n",
        "    super(MyModel, self).__init__()\n",
        "    # 초기값 설정\n",
        "    self.flatten = tf.keras.layers.Flatten()\n",
        "    self.dense1 = tf.keras.layers.Dense(256, activation='relu')\n",
        "    self.dense2 = tf.keras.layers.Dense(64, activation='relu')\n",
        "    self.dense3 = tf.keras.layers.Dense(10, activation='softmax')\n",
        "\n",
        "  # method overiding\n",
        "  # 훈련용 함수 정의\n",
        "  # x는 input\n",
        "  def call(self, x):\n",
        "    x = self.flatten(x)\n",
        "    x = self.dense1(x)\n",
        "    x = self.dense2(x)\n",
        "    x = self.dense3(x)\n",
        "    return x"
      ],
      "metadata": {
        "id": "jH_RbxNiQsx5"
      },
      "execution_count": 23,
      "outputs": []
    },
    {
      "cell_type": "code",
      "source": [
        "# 모델 생성\n",
        "mymodel = MyModel()\n",
        "\n",
        "# 모델의 이름 설정\n",
        "mymodel._name = 'subclass_model'\n",
        "\n",
        "# 모델 input 정의\n",
        "mymodel(tf.keras.layers.Input(shape=(28, 28)))\n",
        "\n",
        "# 모델 요약\n",
        "mymodel.summary()"
      ],
      "metadata": {
        "colab": {
          "base_uri": "https://localhost:8080/"
        },
        "id": "Xk0ptWJhRBWm",
        "outputId": "6857cc39-72ad-4547-c1b6-48820c11af74"
      },
      "execution_count": 24,
      "outputs": [
        {
          "output_type": "stream",
          "name": "stdout",
          "text": [
            "Model: \"subclass_model\"\n",
            "_________________________________________________________________\n",
            " Layer (type)                Output Shape              Param #   \n",
            "=================================================================\n",
            " flatten_3 (Flatten)         multiple                  0         \n",
            "                                                                 \n",
            " dense_15 (Dense)            multiple                  200960    \n",
            "                                                                 \n",
            " dense_16 (Dense)            multiple                  16448     \n",
            "                                                                 \n",
            " dense_17 (Dense)            multiple                  650       \n",
            "                                                                 \n",
            "=================================================================\n",
            "Total params: 218058 (851.79 KB)\n",
            "Trainable params: 218058 (851.79 KB)\n",
            "Non-trainable params: 0 (0.00 Byte)\n",
            "_________________________________________________________________\n"
          ]
        }
      ]
    },
    {
      "cell_type": "code",
      "source": [
        "# 컴파일\n",
        "mymodel.compile(optimizer='adam', loss='sparse_categorical_crossentropy', metrics=['accuracy'])\n",
        "\n",
        "# 훈련\n",
        "mymodel.fit(x_train, y_train, epochs=3)\n",
        "\n",
        "# 검증\n",
        "loss, acc = mymodel.evaluate(x_test, y_test, verbose=0)\n",
        "print(f'Subclassing Model] loss: {loss:.5f}, acc: {acc:.5f}')"
      ],
      "metadata": {
        "colab": {
          "base_uri": "https://localhost:8080/"
        },
        "id": "4BXilYPKRF88",
        "outputId": "e4810f5b-6bf9-4777-e283-efd6929774c3"
      },
      "execution_count": 25,
      "outputs": [
        {
          "output_type": "stream",
          "name": "stdout",
          "text": [
            "Epoch 1/3\n",
            "1875/1875 [==============================] - 17s 7ms/step - loss: 0.2087 - accuracy: 0.9391\n",
            "Epoch 2/3\n",
            "1875/1875 [==============================] - 16s 8ms/step - loss: 0.0856 - accuracy: 0.9734\n",
            "Epoch 3/3\n",
            "1875/1875 [==============================] - 19s 10ms/step - loss: 0.0609 - accuracy: 0.9807\n",
            "Subclassing Model] loss: 0.07839, acc: 0.97530\n"
          ]
        }
      ]
    },
    {
      "cell_type": "markdown",
      "source": [
        "###7-3 서브클래싱 모델 파라미터를 활용한 생성\n",
        "- 생성자 파라미터로 모델 내부 레이어의 하이퍼파라미터 지정 가능"
      ],
      "metadata": {
        "id": "sWaNZPQiRSqf"
      }
    },
    {
      "cell_type": "code",
      "source": [
        "class MyModel(tf.keras.Model):\n",
        "\n",
        "  # 생성자 파라미터 추가\n",
        "  def __init__(self, units, num_classes):\n",
        "    super(MyModel, self).__init__()\n",
        "    # 초기값 설정\n",
        "    self.flatten = tf.keras.layers.Flatten()\n",
        "    self.dense1 = tf.keras.layers.Dense(units, activation='relu')\n",
        "    self.dense2 = tf.keras.layers.Dense(units/4, activation='relu')\n",
        "    self.dense3 = tf.keras.layers.Dense(num_classes, activation='softmax')\n",
        "\n",
        "  # class overiding\n",
        "  # 훈련용 함수 정의\n",
        "  # x는 input\n",
        "  def call(self, x):\n",
        "    x = self.flatten(x)\n",
        "    x = self.dense1(x)\n",
        "    x = self.dense2(x)\n",
        "    x = self.dense3(x)\n",
        "    return x"
      ],
      "metadata": {
        "id": "AZg39_2CRLvm"
      },
      "execution_count": 26,
      "outputs": []
    },
    {
      "cell_type": "code",
      "source": [
        "# 모델 생성\n",
        "mymodel = MyModel(256, 10)\n",
        "\n",
        "# 모델 input 정의\n",
        "mymodel(tf.keras.layers.Input(shape=(28, 28)))\n",
        "\n",
        "# 모델 요약\n",
        "mymodel.summary()"
      ],
      "metadata": {
        "colab": {
          "base_uri": "https://localhost:8080/"
        },
        "id": "qKbMHI-rRdUW",
        "outputId": "adee8c7b-d5a9-4565-8153-751c64df1116"
      },
      "execution_count": 27,
      "outputs": [
        {
          "output_type": "stream",
          "name": "stdout",
          "text": [
            "Model: \"my_model_1\"\n",
            "_________________________________________________________________\n",
            " Layer (type)                Output Shape              Param #   \n",
            "=================================================================\n",
            " flatten_4 (Flatten)         multiple                  0         \n",
            "                                                                 \n",
            " dense_18 (Dense)            multiple                  200960    \n",
            "                                                                 \n",
            " dense_19 (Dense)            multiple                  16448     \n",
            "                                                                 \n",
            " dense_20 (Dense)            multiple                  650       \n",
            "                                                                 \n",
            "=================================================================\n",
            "Total params: 218058 (851.79 KB)\n",
            "Trainable params: 218058 (851.79 KB)\n",
            "Non-trainable params: 0 (0.00 Byte)\n",
            "_________________________________________________________________\n"
          ]
        }
      ]
    },
    {
      "cell_type": "code",
      "source": [
        "# 컴파일\n",
        "mymodel.compile(optimizer='adam', loss='sparse_categorical_crossentropy', metrics=['accuracy'])\n",
        "\n",
        "# 훈련\n",
        "mymodel.fit(x_train, y_train, epochs=3)\n",
        "\n",
        "# 검증\n",
        "loss, acc = mymodel.evaluate(x_test, y_test, verbose=0)\n",
        "print(f'Subclassing Model w.parameters] loss: {loss:.5f}, acc: {acc:.5f}')"
      ],
      "metadata": {
        "colab": {
          "base_uri": "https://localhost:8080/"
        },
        "id": "kI_iXJhVRgu2",
        "outputId": "2af72adc-3323-4817-9f53-62f621f588de"
      },
      "execution_count": 28,
      "outputs": [
        {
          "output_type": "stream",
          "name": "stdout",
          "text": [
            "Epoch 1/3\n",
            "1875/1875 [==============================] - 18s 9ms/step - loss: 0.2129 - accuracy: 0.9380\n",
            "Epoch 2/3\n",
            "1875/1875 [==============================] - 14s 7ms/step - loss: 0.0876 - accuracy: 0.9729\n",
            "Epoch 3/3\n",
            "1875/1875 [==============================] - 16s 8ms/step - loss: 0.0595 - accuracy: 0.9809\n",
            "Subclassing Model w.parameters] loss: 0.07496, acc: 0.97690\n"
          ]
        }
      ]
    }
  ]
}