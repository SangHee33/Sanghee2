{
  "nbformat": 4,
  "nbformat_minor": 0,
  "metadata": {
    "colab": {
      "provenance": [],
      "authorship_tag": "ABX9TyP55ItAqVMu27IH6xOc6+Y5",
      "include_colab_link": true
    },
    "kernelspec": {
      "name": "python3",
      "display_name": "Python 3"
    },
    "language_info": {
      "name": "python"
    }
  },
  "cells": [
    {
      "cell_type": "markdown",
      "metadata": {
        "id": "view-in-github",
        "colab_type": "text"
      },
      "source": [
        "<a href=\"https://colab.research.google.com/github/SangHee33/Sanghee2/blob/main/%ED%95%B8%EC%A6%88%EC%98%A8_4%EC%9E%A5_%EB%AA%A8%EB%8D%B8_%ED%9B%88%EB%A0%A8.ipynb\" target=\"_parent\"><img src=\"https://colab.research.google.com/assets/colab-badge.svg\" alt=\"Open In Colab\"/></a>"
      ]
    },
    {
      "cell_type": "markdown",
      "source": [
        "p.157-202"
      ],
      "metadata": {
        "id": "jUsV1xZe8x3K"
      }
    },
    {
      "cell_type": "markdown",
      "source": [
        "# 4. 모델 훈련\n",
        "\n",
        "선형 회귀\n",
        "- 직접 계산\n",
        "- 경사 하강법"
      ],
      "metadata": {
        "id": "NLKs_N1x_WNd"
      }
    },
    {
      "cell_type": "markdown",
      "source": [
        "다항 회귀\n",
        "- 선형 회귀보다 파라미터가 많아서 훈련 데이터에 과대적합되기 쉬움\n",
        "- 학습 곡선을 사용해 모델이 과대적합되는지 감지"
      ],
      "metadata": {
        "id": "3JXgwrvE_jxE"
      }
    },
    {
      "cell_type": "markdown",
      "source": [
        "## 4.1 선형 회귀\n",
        "\n",
        "- 선형 모델 = 입력 특성의 가중치 합 + 편향(절편)\n",
        "- RMSE를 최소화하는 세타 찾기"
      ],
      "metadata": {
        "id": "BRVxJwgu_vyI"
      }
    },
    {
      "cell_type": "markdown",
      "source": [
        "### 4.1.1 정규방정식\n",
        "\n",
        "- 비용 함수를 최소화하는 세타 값을 찾기 위한 해석적인 방법 -> 정규방정식 이용"
      ],
      "metadata": {
        "id": "UBhoHPp-FRIM"
      }
    },
    {
      "cell_type": "code",
      "execution_count": 21,
      "metadata": {
        "id": "xQVK_ehX8qa4"
      },
      "outputs": [],
      "source": [
        "import numpy as np\n",
        "\n",
        "X = 2 * np.random.rand(100,1)\n",
        "y = 4+3*X +np.random.rand(100,1)"
      ]
    },
    {
      "cell_type": "code",
      "source": [
        "# 정규방정식을 이용해 세타 계산\n",
        "X_b = np.c_[np.ones((100,1)),X]\n",
        "theta_best = np.linalg.inv(X_b.T.dot(X_b)).dot(X_b.T).dot(y)"
      ],
      "metadata": {
        "id": "TnzCwtIaFx6J"
      },
      "execution_count": 22,
      "outputs": []
    },
    {
      "cell_type": "code",
      "source": [
        "theta_best"
      ],
      "metadata": {
        "colab": {
          "base_uri": "https://localhost:8080/"
        },
        "id": "4M18M9ZsGT-S",
        "outputId": "a63a8239-db3e-404c-9c90-b0362fcd4dc2"
      },
      "execution_count": 23,
      "outputs": [
        {
          "output_type": "execute_result",
          "data": {
            "text/plain": [
              "array([[4.56830717],\n",
              "       [2.92624097]])"
            ]
          },
          "metadata": {},
          "execution_count": 23
        }
      ]
    },
    {
      "cell_type": "code",
      "source": [
        "X_new = np.array([[0],[2]])\n",
        "X_new_b = np.c_[np.ones((2,1)),X_new] # 모든 샘플에 x0=1을 추가\n",
        "y_predict = X_new_b.dot(theta_best)\n",
        "y_predict"
      ],
      "metadata": {
        "colab": {
          "base_uri": "https://localhost:8080/"
        },
        "id": "wex6unOsGlXy",
        "outputId": "6369f31c-f0c1-4b4b-eea6-727173b56ec4"
      },
      "execution_count": 24,
      "outputs": [
        {
          "output_type": "execute_result",
          "data": {
            "text/plain": [
              "array([[ 4.56830717],\n",
              "       [10.42078911]])"
            ]
          },
          "metadata": {},
          "execution_count": 24
        }
      ]
    },
    {
      "cell_type": "code",
      "source": [
        "import matplotlib.pyplot as plt\n",
        "\n",
        "plt.plot(X_new, y_predict, \"r-\")\n",
        "plt.plot(X, y, \"b.\")\n",
        "plt.axis([0,2,0,15])\n",
        "plt.show()"
      ],
      "metadata": {
        "colab": {
          "base_uri": "https://localhost:8080/",
          "height": 430
        },
        "id": "ZXonS09IG1oL",
        "outputId": "80d9573b-713f-4c53-cbe3-a8d7a06c6e28"
      },
      "execution_count": 25,
      "outputs": [
        {
          "output_type": "display_data",
          "data": {
            "text/plain": [
              "<Figure size 640x480 with 1 Axes>"
            ],
            "image/png": "[encoded data removed]"
          },
          "metadata": {}
        }
      ]
    },
    {
      "cell_type": "code",
      "source": [
        "from sklearn.linear_model import LinearRegression\n",
        "lin_reg = LinearRegression()\n",
        "lin_reg.fit(X,y)\n",
        "lin_reg.intercept_,lin_reg.coef_"
      ],
      "metadata": {
        "colab": {
          "base_uri": "https://localhost:8080/"
        },
        "id": "-9L51DgPG1lp",
        "outputId": "e960ad61-9b4f-49e3-91e7-840f42a29f51"
      },
      "execution_count": 26,
      "outputs": [
        {
          "output_type": "execute_result",
          "data": {
            "text/plain": [
              "(array([4.56830717]), array([[2.92624097]]))"
            ]
          },
          "metadata": {},
          "execution_count": 26
        }
      ]
    },
    {
      "cell_type": "code",
      "source": [
        "lin_reg.predict(X_new)"
      ],
      "metadata": {
        "colab": {
          "base_uri": "https://localhost:8080/"
        },
        "id": "T90HRB0vG1ih",
        "outputId": "aa316d9e-b19e-44dc-df50-63b86c7b8af8"
      },
      "execution_count": 27,
      "outputs": [
        {
          "output_type": "execute_result",
          "data": {
            "text/plain": [
              "array([[ 4.56830717],\n",
              "       [10.42078911]])"
            ]
          },
          "metadata": {},
          "execution_count": 27
        }
      ]
    },
    {
      "cell_type": "code",
      "source": [
        "# LinearRegression 클래스는 scipy.linalg.lstsq() 함수를 기반\n",
        "theta_best_svd, residuals, rank, s = np.linalg.lstsq(X_b,y,rcond=1e-6)\n",
        "theta_best_svd"
      ],
      "metadata": {
        "colab": {
          "base_uri": "https://localhost:8080/"
        },
        "id": "ZfB_xtEyG1f8",
        "outputId": "15b20b6c-b1e0-41c7-eeb3-1569d0912ca8"
      },
      "execution_count": 28,
      "outputs": [
        {
          "output_type": "execute_result",
          "data": {
            "text/plain": [
              "array([[4.56830717],\n",
              "       [2.92624097]])"
            ]
          },
          "metadata": {},
          "execution_count": 28
        }
      ]
    },
    {
      "cell_type": "code",
      "source": [
        "# 유사역행렬\n",
        "np.linalg.pinv(X_b).dot(y)"
      ],
      "metadata": {
        "colab": {
          "base_uri": "https://localhost:8080/"
        },
        "id": "FS4ZkmTCG1di",
        "outputId": "2cec7d3e-79df-4855-d82d-ead6a68fcd9a"
      },
      "execution_count": 29,
      "outputs": [
        {
          "output_type": "execute_result",
          "data": {
            "text/plain": [
              "array([[4.56830717],\n",
              "       [2.92624097]])"
            ]
          },
          "metadata": {},
          "execution_count": 29
        }
      ]
    },
    {
      "cell_type": "markdown",
      "source": [
        "### 4.1.2 계산 복잡도\n",
        "- X.T * X의 역행렬을 계산하는 계산 복잡도는 일반적으로 O(n^2.4)에서 O(n^3) 사이임\n",
        "- LinearRegression 클래스가 사용하는 SVD 방법은 약 O(n^2)\n",
        "- 예측하려는 샘플이 두 배로 늘어나면 걸리는 시간도 거의 두 배 증가"
      ],
      "metadata": {
        "id": "Mq8N1OR8Jkxm"
      }
    },
    {
      "cell_type": "markdown",
      "source": [
        "## 4.2 경사하강법\n",
        "- 비용 함수를 최소화하기 위해 반복해서 파라미터 조정\n",
        "- 그레이디언트가 0이 되면 최솟값에 도달\n",
        "- 세타를 임의의 값으로 시작해서(무작위 초기화) 한 번에 조금씩 비용 함수가 감소되는 방향으로 진행하여 알고리즘이 최솟값에 수렵할 때까지 점진적으로 향상시킴\n",
        "- 중요한 파라미터는 스텝의 크기로, 학습률 하이퍼파라미터로 결정\n",
        "- 학습률이 너무 작으면 반복을 많이 해야 하므로 시간이 오래 걸림\n",
        "- 학습률이 너무 크면 알고리즘을 더 큰 값으로 발산시켜 해법 찾지 못함\n",
        "- 무작위 초기화 때문에 알고리즘이 전역 최솟값보다 지역 최솟값에 수렴\n",
        "- MSE 비용 함수는 볼록 함수라 지역 최솟값이 없고 하나의 전역 최솟값만 가짐\n",
        "- 비용 함수를 최소화하는 모델 파라미터의 조합(파라미터 공간) 찾기"
      ],
      "metadata": {
        "id": "IPI5bFEPKFld"
      }
    },
    {
      "cell_type": "markdown",
      "source": [
        "### 4.2.1 배치 경사 하강법\n",
        "- 세타가 조금 변경될 때 비용 함수가 얼마나 바뀌는지 계산 = 편도함수"
      ],
      "metadata": {
        "id": "bbRBPCdjLgso"
      }
    },
    {
      "cell_type": "code",
      "source": [
        "eta = 0.1 # 학습률\n",
        "n_iterations = 1000\n",
        "m = 100\n",
        "\n",
        "theta = np.random.randn(2,1) # 무작위 초기화\n",
        "\n",
        "for iteration in range(n_iterations):\n",
        "  gradients = 2/m * X_b.T.dot(X_b.dot(theta)-y)\n",
        "  theta = theta - eta*gradients"
      ],
      "metadata": {
        "id": "-7_rwLVjG1aK"
      },
      "execution_count": 30,
      "outputs": []
    },
    {
      "cell_type": "code",
      "source": [
        "theta"
      ],
      "metadata": {
        "colab": {
          "base_uri": "https://localhost:8080/"
        },
        "id": "JgDYyuaiMNGl",
        "outputId": "56f6e856-34fc-4b69-d717-f0c8908a7631"
      },
      "execution_count": 31,
      "outputs": [
        {
          "output_type": "execute_result",
          "data": {
            "text/plain": [
              "array([[4.56830717],\n",
              "       [2.92624097]])"
            ]
          },
          "metadata": {},
          "execution_count": 31
        }
      ]
    },
    {
      "cell_type": "markdown",
      "source": [
        "- 적절한 학습률을 찾으려면 그리드 탐색\n",
        "- 반복 횟수를 제한\n",
        "- 벡터의 노름이 어떤 값(허용 오차)보다 작아지면 경사 하강법이 최솟값에 도달한 것이므로 알고리즘 중지"
      ],
      "metadata": {
        "id": "UDiWLEqDNOHN"
      }
    },
    {
      "cell_type": "markdown",
      "source": [
        "### 4.2.2 확률적 경사 하강법\n",
        "- 매 스텝에서 한 개의 샘플을 무작위로 선택하고 그 하나의 샘플에 대한 그레이디언트를 계산\n",
        "- 배치 경사 하강법보다 불안정\n",
        "- 담금질 기법 알고리즘과 유사\n",
        "- 매 반복에서 학습률을 결정하는 함수를 학습 스케쥴"
      ],
      "metadata": {
        "id": "WyHasP88Nb8W"
      }
    },
    {
      "cell_type": "code",
      "source": [
        "n_epochs=50\n",
        "t0, t1 = 5, 50 #학습 스케줄 하이퍼 파라미터\n",
        "\n",
        "def learning_schedule(t):\n",
        "  return t0/(t+t1)\n",
        "\n",
        "theta = np.random.randn(2,1) #무작위 초기화\n",
        "\n",
        "for epoch in range(n_epochs):\n",
        "  for i in range(m):\n",
        "    random_index=np.random.randint(m)\n",
        "    xi=X_b[random_index:random_index+1]\n",
        "    yi=y[random_index:random_index+1]\n",
        "    gradients=2*xi.T.dot(xi.dot(theta)-yi)\n",
        "    eta=learning_schedule(epoch*m+i)\n",
        "    theta=theta-eta*gradients"
      ],
      "metadata": {
        "id": "cWR0W_glN-KE"
      },
      "execution_count": 32,
      "outputs": []
    },
    {
      "cell_type": "code",
      "source": [
        "theta"
      ],
      "metadata": {
        "colab": {
          "base_uri": "https://localhost:8080/"
        },
        "id": "RhauM0wbONC1",
        "outputId": "58bb122f-eba6-484d-eeb9-597ca96d345f"
      },
      "execution_count": 33,
      "outputs": [
        {
          "output_type": "execute_result",
          "data": {
            "text/plain": [
              "array([[4.57225789],\n",
              "       [2.92233243]])"
            ]
          },
          "metadata": {},
          "execution_count": 33
        }
      ]
    },
    {
      "cell_type": "markdown",
      "source": [
        "- 각 반복은 에포크\n",
        "- 한 에포크에서 여러 번 샘플이 선택될 수 있고 전혀 선택되지 못할 수도"
      ],
      "metadata": {
        "id": "5WADZZ4ZOUTD"
      }
    },
    {
      "cell_type": "code",
      "source": [
        "from sklearn.linear_model import SGDRegressor\n",
        "sgd_reg = SGDRegressor(max_iter = 1000, tol=1e-3, penalty=None, eta0=0.1)\n",
        "sgd_reg.fit(X,y.ravel())\n",
        "\n",
        "sgd_reg.intercept_, sgd_reg.coef_"
      ],
      "metadata": {
        "colab": {
          "base_uri": "https://localhost:8080/"
        },
        "id": "p4AjvmY2Okhm",
        "outputId": "14cd8b79-988c-48ac-c7ab-bfedcab413de"
      },
      "execution_count": 34,
      "outputs": [
        {
          "output_type": "execute_result",
          "data": {
            "text/plain": [
              "(array([4.54555215]), array([2.94817942]))"
            ]
          },
          "metadata": {},
          "execution_count": 34
        }
      ]
    },
    {
      "cell_type": "markdown",
      "source": [
        "### 4.2.3 미니배치 경사 하강법\n",
        "- 미니배치라 부르는 임의의 작은 샘플 세트에 대해 그레이디언트를 계산"
      ],
      "metadata": {
        "id": "hLqmcUA0O9qW"
      }
    },
    {
      "cell_type": "markdown",
      "source": [
        "## 4.3 다항 회귀"
      ],
      "metadata": {
        "id": "BHTXvnPcQKXL"
      }
    },
    {
      "cell_type": "code",
      "source": [
        "# 2차방정식으로 비선형 데이터 생성\n",
        "m = 100\n",
        "X = 6*np.random.rand(m,1)-3\n",
        "y = 0.5*X**2 + X + 2 + np.random.randn(m,1)"
      ],
      "metadata": {
        "id": "3FRi1zy1OkfK"
      },
      "execution_count": 35,
      "outputs": []
    },
    {
      "cell_type": "code",
      "source": [
        "from sklearn.preprocessing import PolynomialFeatures\n",
        "poly_features = PolynomialFeatures(degree=2,include_bias=False)\n",
        "X_poly = poly_features.fit_transform(X)\n",
        "X[0]"
      ],
      "metadata": {
        "colab": {
          "base_uri": "https://localhost:8080/"
        },
        "id": "4XhPAyMOOkcd",
        "outputId": "1746c435-fcf4-4af9-ec4b-42ba02902987"
      },
      "execution_count": 36,
      "outputs": [
        {
          "output_type": "execute_result",
          "data": {
            "text/plain": [
              "array([0.69613035])"
            ]
          },
          "metadata": {},
          "execution_count": 36
        }
      ]
    },
    {
      "cell_type": "code",
      "source": [
        "X_poly[0]"
      ],
      "metadata": {
        "colab": {
          "base_uri": "https://localhost:8080/"
        },
        "id": "6g8P2UdqOkZ3",
        "outputId": "89ae0ddb-9bd3-4995-c63d-d18f14c85298"
      },
      "execution_count": 37,
      "outputs": [
        {
          "output_type": "execute_result",
          "data": {
            "text/plain": [
              "array([0.69613035, 0.48459746])"
            ]
          },
          "metadata": {},
          "execution_count": 37
        }
      ]
    },
    {
      "cell_type": "code",
      "source": [
        "lin_reg = LinearRegression()\n",
        "lin_reg.fit(X_poly,y)\n",
        "lin_reg.intercept_, lin_reg.coef_"
      ],
      "metadata": {
        "colab": {
          "base_uri": "https://localhost:8080/"
        },
        "id": "a40lv6MGOkXV",
        "outputId": "45123933-9289-4228-9c2d-77fa9561cafa"
      },
      "execution_count": 38,
      "outputs": [
        {
          "output_type": "execute_result",
          "data": {
            "text/plain": [
              "(array([2.07184271]), array([[1.05872699, 0.43068565]]))"
            ]
          },
          "metadata": {},
          "execution_count": 38
        }
      ]
    },
    {
      "cell_type": "markdown",
      "source": [
        "- PolynomialFeatures는 주어진 차수까지 특성 간의 모든 교차항을 추가하기 때문에 특성 사이의 관계를 찾을 수 있음"
      ],
      "metadata": {
        "id": "OBc3sX2gUxl3"
      }
    },
    {
      "cell_type": "markdown",
      "source": [
        "## 4.4 학습 곡선\n",
        "\n",
        "- 훈련 세트와 검증 세트의 모델 성능을 훈련 세트 크기(또는 훈련 반복)의 함수로 나타냄"
      ],
      "metadata": {
        "id": "owU8ERiLU8uh"
      }
    },
    {
      "cell_type": "code",
      "source": [
        "from sklearn.metrics import mean_squared_error\n",
        "from sklearn.model_selection import train_test_split\n",
        "\n",
        "def plot_learning_curves(model, X, y):\n",
        "  X_train, X_val, y_train, y_val = train_test_split(X, y, test_size=0.2)\n",
        "  train_errors, val_errors = [], []\n",
        "  for m in range(1, len(X_train)):\n",
        "    model.fit(X_train[:m], y_train[:m])\n",
        "    y_train_predict = model.predict(X_train[:m])\n",
        "    y_val_predict = model.predict(X_val)\n",
        "    train_errors.append(mean_squared_error(y_train[:m], y_train_predict))\n",
        "    val_errors.append(mean_squared_error(y_val, y_val_predict))\n",
        "\n",
        "  plt.plot(np.sqrt(train_errors), \"r-+\", linewidth=2, label=\"training set\")\n",
        "  plt.plot(np.sqrt(val_errors), \"b-\", linewidth=3, label=\"validation set\")\n",
        "  plt.legend(loc=\"upper right\", fontsize=14)\n",
        "  plt.xlabel(\"Train Set Size\", fontsize=14)\n",
        "  plt.ylabel(\"RMSE\", fontsize=14)"
      ],
      "metadata": {
        "id": "m47fPrGmOkUk"
      },
      "execution_count": 39,
      "outputs": []
    },
    {
      "cell_type": "code",
      "source": [
        "lin_reg = LinearRegression()\n",
        "plot_learning_curves(lin_reg, X, y)"
      ],
      "metadata": {
        "id": "zVtV8s-cOj3g",
        "colab": {
          "base_uri": "https://localhost:8080/",
          "height": 454
        },
        "outputId": "22e9aa7d-18fc-440d-9e78-beb6bbd9ad42"
      },
      "execution_count": 40,
      "outputs": [
        {
          "output_type": "display_data",
          "data": {
            "text/plain": [
              "<Figure size 640x480 with 1 Axes>"
            ],
            "image/png": "[encoded data removed]"
          },
          "metadata": {}
        }
      ]
    },
    {
      "cell_type": "code",
      "source": [
        "# 10차 다항 회귀 모델의 학습 곡선\n",
        "from sklearn.pipeline import Pipeline\n",
        "\n",
        "polynomial_regression = Pipeline([\n",
        "        (\"poly_features\", PolynomialFeatures(degree=10, include_bias=False)),\n",
        "        (\"lin_reg\", LinearRegression()), ])\n",
        "\n",
        "plot_learning_curves(polynomial_regression, X, y)\n",
        "plt.axis([0, 80, 0, 3])\n",
        "plt.show()"
      ],
      "metadata": {
        "colab": {
          "base_uri": "https://localhost:8080/",
          "height": 460
        },
        "id": "_DckhdUECJD9",
        "outputId": "47d897fe-24cb-4361-f59a-d2bbb7df52f8"
      },
      "execution_count": 41,
      "outputs": [
        {
          "output_type": "display_data",
          "data": {
            "text/plain": [
              "<Figure size 640x480 with 1 Axes>"
            ],
            "image/png": "[encoded data removed]"
          },
          "metadata": {}
        }
      ]
    },
    {
      "cell_type": "markdown",
      "source": [
        "- 훈련 데이터의 오차가 선형 회귀 모델보다 훨씬 낮음\n",
        "- 두 곡선 사이에 공간이 있음 -> 훈련 데이터에서의 모델 성능이 검증 데이터에서보다 훨씬 나음(과대적합 모델의 특징), 그러나 더 큰 훈련 세트를 사용하면 두 곡선이 점점 가까워짐"
      ],
      "metadata": {
        "id": "GPPj5xbpDbTz"
      }
    },
    {
      "cell_type": "markdown",
      "source": [
        "## 4.5 규제가 있는 선형 모델\n",
        "- 다항 회귀 모델을 규제하는 간단한 방법은 다항식의 차수를 감소시키는 것\n",
        "- 선형 회귀 모델에서는 보통 모델의 가중치를 제한함으로써 규제\n",
        "- '릿지 회귀', '라쏘 회귀', '엘라스틱넷'"
      ],
      "metadata": {
        "id": "rH02pk4cGGgd"
      }
    },
    {
      "cell_type": "markdown",
      "source": [
        "### 4.5.1 릿지 회귀\n",
        "- 규제가 추가된 선형 회귀 버전\n",
        "- 학습 알고리즘을 데이터에 맞추고 모델의 가중치가 가능한 작게 유지되도록 노력\n",
        "- 하이퍼파라미터 알파는 모델을 얼마나 많이 규제할지 조절\n",
        "- 알파 = 0이면 릿지 회귀는 선형 회귀\n",
        "- 알파가 아주 크면 모든 가중치가 거의 0에 가까워지고 데이터의 평균을 지나는 수평선이 됨"
      ],
      "metadata": {
        "id": "zVgZUfN6GVss"
      }
    },
    {
      "cell_type": "code",
      "source": [
        "from sklearn.linear_model import Ridge\n",
        "ridge_reg = Ridge(alpha=1, solver=\"cholesky\")\n",
        "ridge_reg.fit(X, y)\n",
        "ridge_reg.predict([[1.5]])"
      ],
      "metadata": {
        "colab": {
          "base_uri": "https://localhost:8080/"
        },
        "id": "AkiXCXeTDUWG",
        "outputId": "5c5cdafe-4d58-47d3-fb87-f9ea30224626"
      },
      "execution_count": 42,
      "outputs": [
        {
          "output_type": "execute_result",
          "data": {
            "text/plain": [
              "array([[5.04626491]])"
            ]
          },
          "metadata": {},
          "execution_count": 42
        }
      ]
    },
    {
      "cell_type": "code",
      "source": [
        "# 확률적 경사 하강법 사용\n",
        "sgd_reg = SGDRegressor(penalty=\"l2\")\n",
        "sgd_reg.fit(X, y.ravel())\n",
        "sgd_reg.predict([[1.5]])"
      ],
      "metadata": {
        "colab": {
          "base_uri": "https://localhost:8080/"
        },
        "id": "C0rEUtiPIH3U",
        "outputId": "e43e34a9-abb4-4442-9a26-0b2eba266e61"
      },
      "execution_count": 43,
      "outputs": [
        {
          "output_type": "execute_result",
          "data": {
            "text/plain": [
              "array([5.0243222])"
            ]
          },
          "metadata": {},
          "execution_count": 43
        }
      ]
    },
    {
      "cell_type": "markdown",
      "source": [
        "### 4.5.2 라쏘 회귀\n",
        "- 덜 중요한 특성의 가중치를 제거하려 함\n",
        "- 자동으로 특성 선택을 하고 희소 모델을 만듦"
      ],
      "metadata": {
        "id": "wSMwfK6TIPK6"
      }
    },
    {
      "cell_type": "code",
      "source": [
        "from sklearn.linear_model import Lasso\n",
        "lasso_reg = Lasso(alpha=0.1)\n",
        "lasso_reg.fit(X,y)\n",
        "lasso_reg.predict([[1.5]])"
      ],
      "metadata": {
        "colab": {
          "base_uri": "https://localhost:8080/"
        },
        "id": "D5Wxygg2IuZe",
        "outputId": "10ab8fc1-2108-4518-d84e-024fd2194de0"
      },
      "execution_count": 44,
      "outputs": [
        {
          "output_type": "execute_result",
          "data": {
            "text/plain": [
              "array([5.00765146])"
            ]
          },
          "metadata": {},
          "execution_count": 44
        }
      ]
    },
    {
      "cell_type": "markdown",
      "source": [
        "### 4.5.3 엘라스틱넷\n",
        "- 릿지와 라쏘 회귀를 절충한 모델\n",
        "- r=0이면 릿지 회귀와 같고 r=1이면 라쏘 회귀와 같음\n",
        "- 적어도 규제가 약간 있는 것이 대부분의 경우에 좋으므로 일반적으로 평범한 선형 회귀는 피함\n",
        "- 릿지가 기본이 되지만 쓰이는 특성이 몇 개뿐이라고 의심되면 라쏘나 엘라스틱넷이 나음\n",
        "- 특성 수가 훈련 샘플 수보다 많거나 특성 몇 개가 강하게 연관되어 있을 때는 보통 라쏘가 문제를 일으키므로 라쏘보다는 엘라스틱넷 선호"
      ],
      "metadata": {
        "id": "DvgWAeUtI_dz"
      }
    },
    {
      "cell_type": "code",
      "source": [
        "from sklearn.linear_model import ElasticNet\n",
        "elastic_net = ElasticNet(alpha=0.1,l1_ratio=0.5)\n",
        "elastic_net.fit(X,y)\n",
        "elastic_net.predict([[1.5]])"
      ],
      "metadata": {
        "colab": {
          "base_uri": "https://localhost:8080/"
        },
        "id": "TQfJ9FETKCPS",
        "outputId": "a0dbbd71-bd54-4522-edff-b975e78e0b38"
      },
      "execution_count": 46,
      "outputs": [
        {
          "output_type": "execute_result",
          "data": {
            "text/plain": [
              "array([5.00503797])"
            ]
          },
          "metadata": {},
          "execution_count": 46
        }
      ]
    },
    {
      "cell_type": "markdown",
      "source": [
        "### 4.5.4 조기 종료\n",
        "- 경사 하강법과 같은 반복적인 학습 알고리즘을 규제하는 방법 중 하나는 검증 에러가 최솟값에 도달하면 바로 훈련을 중지시키는 조기 종료"
      ],
      "metadata": {
        "id": "wgciUYnRKYF9"
      }
    },
    {
      "cell_type": "code",
      "source": [
        "# 조기 종료를 위한 기본적인 구현 코드\n",
        "from sklearn.base import clone\n",
        "from sklearn.preprocessing import StandardScaler\n",
        "\n",
        "import warnings\n",
        "warnings.filterwarnings(action='ignore')\n",
        "\n",
        "# 데이터 준비\n",
        "poly_scaler = Pipeline([\n",
        "    (\"poly_features\", PolynomialFeatures(degree=90, include_bias = False)),\n",
        "    (\"std_scaler\", StandardScaler())\n",
        "])\n",
        "X_train, X_val, y_train, y_val=train_test_split(X, y, test_size=0.2)\n",
        "X_train_poly_scaled = poly_scaler.fit_transform(X_train)\n",
        "X_val_poly_scaled = poly_scaler.transform(X_val)\n",
        "\n",
        "sgd_reg = SGDRegressor(max_iter=1, tol=None, warm_start=True,\n",
        "                       penalty=None, learning_rate=\"constant\", eta0=0.0005)\n",
        "minimum_val_error = float(\"inf\")\n",
        "best_epoch = None\n",
        "best_model = None\n",
        "for epoch in range(1000):\n",
        "  sgd_reg.fit(X_train_poly_scaled, y_train)   # 훈련을 이어서 진행합니다.\n",
        "  y_val_predict = sgd_reg.predict(X_val_poly_scaled)\n",
        "  val_error = mean_squared_error(y_val, y_val_predict)\n",
        "  if val_error < minimum_val_error:\n",
        "    minimum_val_error = val_error\n",
        "    best_epoch = epoch\n",
        "    best_model = clone(sgd_reg)"
      ],
      "metadata": {
        "id": "nlrHqBrpKXKx"
      },
      "execution_count": 47,
      "outputs": []
    },
    {
      "cell_type": "markdown",
      "source": [
        "## 4.6 로지스틱 회귀\n",
        "- 추정 확률이 50%가 넘으면 모델은 그 샘플이 해당 클래스에 속한다고 예측(레이블이 '1'인 양성 클래스), 아니면 클래스에 속하지 않는다고 예측(레이블이 '2'인 음성 클래스) -> 이진 분류기"
      ],
      "metadata": {
        "id": "VRt1weD1K3Sg"
      }
    },
    {
      "cell_type": "markdown",
      "source": [
        "### 4.6.1 확률 추정\n",
        "- 입력 특성의 가중치 합을 계산\n",
        "- 선형 회귀처럼 바로 결과를 출력하지 않고 결괏값의 로지스틱을 출력\n",
        "- 로지스틱은 0과 1 사이의 값을 출력하는 시그모이드 함수"
      ],
      "metadata": {
        "id": "5DOlh-POLJvZ"
      }
    },
    {
      "cell_type": "markdown",
      "source": [
        "### 4.6.2 훈련과 비용 함수\n",
        "- 훈련의 목적은 양성 샘플에 대해서는 높은 확률을 추정하고 음성 샘플에 대해서는 낮은 확률을 추정하는 모델의 파라미터 벡터를 찾는 것"
      ],
      "metadata": {
        "id": "v8arGlzALejo"
      }
    },
    {
      "cell_type": "markdown",
      "source": [
        "### 4.6.3 결정 경계\n"
      ],
      "metadata": {
        "id": "JshzL9z5Lumy"
      }
    },
    {
      "cell_type": "code",
      "source": [
        "# 꽃잎의 너비를 기반으로 아이리스 종을 감지하는 분류기\n",
        "from sklearn import datasets\n",
        "iris = datasets.load_iris()\n",
        "list(iris.keys())"
      ],
      "metadata": {
        "colab": {
          "base_uri": "https://localhost:8080/"
        },
        "id": "Qt7sKG2tLypQ",
        "outputId": "e2ce10c1-b8ed-476d-eecf-80cfb960e465"
      },
      "execution_count": 49,
      "outputs": [
        {
          "output_type": "execute_result",
          "data": {
            "text/plain": [
              "['data',\n",
              " 'target',\n",
              " 'frame',\n",
              " 'target_names',\n",
              " 'DESCR',\n",
              " 'feature_names',\n",
              " 'filename',\n",
              " 'data_module']"
            ]
          },
          "metadata": {},
          "execution_count": 49
        }
      ]
    },
    {
      "cell_type": "code",
      "source": [
        "X = iris[\"data\"][:,3:] # 꽃잎의 너비\n",
        "y = (iris[\"target\"]==2).astype(np.int) # 1 Iris-Virginica면 1, 그렇지 않으면 0"
      ],
      "metadata": {
        "id": "Z_fyfkDzMBrs"
      },
      "execution_count": 51,
      "outputs": []
    },
    {
      "cell_type": "code",
      "source": [
        "from sklearn.linear_model import LogisticRegression\n",
        "\n",
        "log_reg = LogisticRegression()\n",
        "log_reg.fit(X,y)"
      ],
      "metadata": {
        "colab": {
          "base_uri": "https://localhost:8080/",
          "height": 74
        },
        "id": "jhmPlx4rMBo5",
        "outputId": "cd16acc5-d69e-4f84-b2da-41f218b51136"
      },
      "execution_count": 52,
      "outputs": [
        {
          "output_type": "execute_result",
          "data": {
            "text/plain": [
              "LogisticRegression()"
            ],
            "text/html": [
              "<style>#sk-container-id-1 {color: black;background-color: white;}#sk-container-id-1 pre{padding: 0;}#sk-container-id-1 div.sk-toggleable {background-color: white;}#sk-container-id-1 label.sk-toggleable__label {cursor: pointer;display: block;width: 100%;margin-bottom: 0;padding: 0.3em;box-sizing: border-box;text-align: center;}#sk-container-id-1 label.sk-toggleable__label-arrow:before {content: \"▸\";float: left;margin-right: 0.25em;color: #696969;}#sk-container-id-1 label.sk-toggleable__label-arrow:hover:before {color: black;}#sk-container-id-1 div.sk-estimator:hover label.sk-toggleable__label-arrow:before {color: black;}#sk-container-id-1 div.sk-toggleable__content {max-height: 0;max-width: 0;overflow: hidden;text-align: left;background-color: #f0f8ff;}#sk-container-id-1 div.sk-toggleable__content pre {margin: 0.2em;color: black;border-radius: 0.25em;background-color: #f0f8ff;}#sk-container-id-1 input.sk-toggleable__control:checked~div.sk-toggleable__content {max-height: 200px;max-width: 100%;overflow: auto;}#sk-container-id-1 input.sk-toggleable__control:checked~label.sk-toggleable__label-arrow:before {content: \"▾\";}#sk-container-id-1 div.sk-estimator input.sk-toggleable__control:checked~label.sk-toggleable__label {background-color: #d4ebff;}#sk-container-id-1 div.sk-label input.sk-toggleable__control:checked~label.sk-toggleable__label {background-color: #d4ebff;}#sk-container-id-1 input.sk-hidden--visually {border: 0;clip: rect(1px 1px 1px 1px);clip: rect(1px, 1px, 1px, 1px);height: 1px;margin: -1px;overflow: hidden;padding: 0;position: absolute;width: 1px;}#sk-container-id-1 div.sk-estimator {font-family: monospace;background-color: #f0f8ff;border: 1px dotted black;border-radius: 0.25em;box-sizing: border-box;margin-bottom: 0.5em;}#sk-container-id-1 div.sk-estimator:hover {background-color: #d4ebff;}#sk-container-id-1 div.sk-parallel-item::after {content: \"\";width: 100%;border-bottom: 1px solid gray;flex-grow: 1;}#sk-container-id-1 div.sk-label:hover label.sk-toggleable__label {background-color: #d4ebff;}#sk-container-id-1 div.sk-serial::before {content: \"\";position: absolute;border-left: 1px solid gray;box-sizing: border-box;top: 0;bottom: 0;left: 50%;z-index: 0;}#sk-container-id-1 div.sk-serial {display: flex;flex-direction: column;align-items: center;background-color: white;padding-right: 0.2em;padding-left: 0.2em;position: relative;}#sk-container-id-1 div.sk-item {position: relative;z-index: 1;}#sk-container-id-1 div.sk-parallel {display: flex;align-items: stretch;justify-content: center;background-color: white;position: relative;}#sk-container-id-1 div.sk-item::before, #sk-container-id-1 div.sk-parallel-item::before {content: \"\";position: absolute;border-left: 1px solid gray;box-sizing: border-box;top: 0;bottom: 0;left: 50%;z-index: -1;}#sk-container-id-1 div.sk-parallel-item {display: flex;flex-direction: column;z-index: 1;position: relative;background-color: white;}#sk-container-id-1 div.sk-parallel-item:first-child::after {align-self: flex-end;width: 50%;}#sk-container-id-1 div.sk-parallel-item:last-child::after {align-self: flex-start;width: 50%;}#sk-container-id-1 div.sk-parallel-item:only-child::after {width: 0;}#sk-container-id-1 div.sk-dashed-wrapped {border: 1px dashed gray;margin: 0 0.4em 0.5em 0.4em;box-sizing: border-box;padding-bottom: 0.4em;background-color: white;}#sk-container-id-1 div.sk-label label {font-family: monospace;font-weight: bold;display: inline-block;line-height: 1.2em;}#sk-container-id-1 div.sk-label-container {text-align: center;}#sk-container-id-1 div.sk-container {/* jupyter's `normalize.less` sets `[hidden] { display: none; }` but bootstrap.min.css set `[hidden] { display: none !important; }` so we also need the `!important` here to be able to override the default hidden behavior on the sphinx rendered scikit-learn.org. See: https://github.com/scikit-learn/scikit-learn/issues/21755 */display: inline-block !important;position: relative;}#sk-container-id-1 div.sk-text-repr-fallback {display: none;}</style><div id=\"sk-container-id-1\" class=\"sk-top-container\"><div class=\"sk-text-repr-fallback\"><pre>LogisticRegression()</pre><b>In a Jupyter environment, please rerun this cell to show the HTML representation or trust the notebook. <br />On GitHub, the HTML representation is unable to render, please try loading this page with nbviewer.org.</b></div><div class=\"sk-container\" hidden><div class=\"sk-item\"><div class=\"sk-estimator sk-toggleable\"><input class=\"sk-toggleable__control sk-hidden--visually\" id=\"sk-estimator-id-1\" type=\"checkbox\" checked><label for=\"sk-estimator-id-1\" class=\"sk-toggleable__label sk-toggleable__label-arrow\">LogisticRegression</label><div class=\"sk-toggleable__content\"><pre>LogisticRegression()</pre></div></div></div></div></div>"
            ]
          },
          "metadata": {},
          "execution_count": 52
        }
      ]
    },
    {
      "cell_type": "code",
      "source": [
        "# 꽃잎의 너비가 0~3cm인 꽃에 대해 모델의 추정 확률 계산\n",
        "X_new = np.linspace(0,  3, 1000).reshape(-1, 1)\n",
        "y_proba = log_reg.predict_proba(X_new)\n",
        "\n",
        "plt.plot(X_new, y_proba[:, 1], \"g-\",label=\"Iris virginica\")\n",
        "plt.plot(X_new, y_proba[:, 0], \"b--\",label=\"Not Iris virginica\")"
      ],
      "metadata": {
        "colab": {
          "base_uri": "https://localhost:8080/",
          "height": 448
        },
        "id": "3J2VzeiPMBmH",
        "outputId": "1d999c15-81a6-462b-91ef-240838643f23"
      },
      "execution_count": 53,
      "outputs": [
        {
          "output_type": "execute_result",
          "data": {
            "text/plain": [
              "[<matplotlib.lines.Line2D at 0x7e86598c6890>]"
            ]
          },
          "metadata": {},
          "execution_count": 53
        },
        {
          "output_type": "display_data",
          "data": {
            "text/plain": [
              "<Figure size 640x480 with 1 Axes>"
            ],
            "image/png": "[encoded data removed]"
          },
          "metadata": {}
        }
      ]
    },
    {
      "cell_type": "markdown",
      "source": [
        "-> 꽃잎 너비가 1.6cm보다 크면 분류기는 Iris-Verginica로 분류"
      ],
      "metadata": {
        "id": "MPVOvFt8NBUD"
      }
    },
    {
      "cell_type": "code",
      "source": [
        "log_reg.predict([[1.7],[1.5]])"
      ],
      "metadata": {
        "colab": {
          "base_uri": "https://localhost:8080/"
        },
        "id": "VO42L1LpMBjY",
        "outputId": "8f462a20-e943-4f68-d50a-695c6af2f2fc"
      },
      "execution_count": 54,
      "outputs": [
        {
          "output_type": "execute_result",
          "data": {
            "text/plain": [
              "array([1, 0])"
            ]
          },
          "metadata": {},
          "execution_count": 54
        }
      ]
    },
    {
      "cell_type": "markdown",
      "source": [
        "### 4.6.4 소프트맥스 회귀(다항 로지스틱 회귀)\n",
        "\n",
        "- 샘플 x가 주어지면 소프트맥싀 회귀 모델이 각 클래스 k에 대한 점수를 계산하고 그 점수에 소프트맥스 함수를 적용하여 각 클래스의 확률을 추정\n",
        "- 모델이 타깃 클래스에 대해서는 높은 확률을 추정하도록 만드는 것이 목적\n",
        "- 크로스 엔트로피 비용 함수를 최소화하는 것은 타깃 클래스에 대해 낮은 확률을 예측하는 모델을 억제하므로 목적에 부합"
      ],
      "metadata": {
        "id": "oprPo1JtNOXz"
      }
    },
    {
      "cell_type": "code",
      "source": [
        "X = iris['data'][:,(2, 3)]  # 꽃잎 길이, 꽃잎 너비\n",
        "y = iris['target']\n",
        "\n",
        "softmax_reg = LogisticRegression(multi_class='multinomial', solver='lbfgs', C=10)\n",
        "softmax_reg.fit(X, y)"
      ],
      "metadata": {
        "colab": {
          "base_uri": "https://localhost:8080/",
          "height": 74
        },
        "id": "O7bSU4TNOoFM",
        "outputId": "c3304f29-5218-464c-e55d-d72546ddea63"
      },
      "execution_count": 55,
      "outputs": [
        {
          "output_type": "execute_result",
          "data": {
            "text/plain": [
              "LogisticRegression(C=10, multi_class='multinomial')"
            ],
            "text/html": [
              "<style>#sk-container-id-2 {color: black;background-color: white;}#sk-container-id-2 pre{padding: 0;}#sk-container-id-2 div.sk-toggleable {background-color: white;}#sk-container-id-2 label.sk-toggleable__label {cursor: pointer;display: block;width: 100%;margin-bottom: 0;padding: 0.3em;box-sizing: border-box;text-align: center;}#sk-container-id-2 label.sk-toggleable__label-arrow:before {content: \"▸\";float: left;margin-right: 0.25em;color: #696969;}#sk-container-id-2 label.sk-toggleable__label-arrow:hover:before {color: black;}#sk-container-id-2 div.sk-estimator:hover label.sk-toggleable__label-arrow:before {color: black;}#sk-container-id-2 div.sk-toggleable__content {max-height: 0;max-width: 0;overflow: hidden;text-align: left;background-color: #f0f8ff;}#sk-container-id-2 div.sk-toggleable__content pre {margin: 0.2em;color: black;border-radius: 0.25em;background-color: #f0f8ff;}#sk-container-id-2 input.sk-toggleable__control:checked~div.sk-toggleable__content {max-height: 200px;max-width: 100%;overflow: auto;}#sk-container-id-2 input.sk-toggleable__control:checked~label.sk-toggleable__label-arrow:before {content: \"▾\";}#sk-container-id-2 div.sk-estimator input.sk-toggleable__control:checked~label.sk-toggleable__label {background-color: #d4ebff;}#sk-container-id-2 div.sk-label input.sk-toggleable__control:checked~label.sk-toggleable__label {background-color: #d4ebff;}#sk-container-id-2 input.sk-hidden--visually {border: 0;clip: rect(1px 1px 1px 1px);clip: rect(1px, 1px, 1px, 1px);height: 1px;margin: -1px;overflow: hidden;padding: 0;position: absolute;width: 1px;}#sk-container-id-2 div.sk-estimator {font-family: monospace;background-color: #f0f8ff;border: 1px dotted black;border-radius: 0.25em;box-sizing: border-box;margin-bottom: 0.5em;}#sk-container-id-2 div.sk-estimator:hover {background-color: #d4ebff;}#sk-container-id-2 div.sk-parallel-item::after {content: \"\";width: 100%;border-bottom: 1px solid gray;flex-grow: 1;}#sk-container-id-2 div.sk-label:hover label.sk-toggleable__label {background-color: #d4ebff;}#sk-container-id-2 div.sk-serial::before {content: \"\";position: absolute;border-left: 1px solid gray;box-sizing: border-box;top: 0;bottom: 0;left: 50%;z-index: 0;}#sk-container-id-2 div.sk-serial {display: flex;flex-direction: column;align-items: center;background-color: white;padding-right: 0.2em;padding-left: 0.2em;position: relative;}#sk-container-id-2 div.sk-item {position: relative;z-index: 1;}#sk-container-id-2 div.sk-parallel {display: flex;align-items: stretch;justify-content: center;background-color: white;position: relative;}#sk-container-id-2 div.sk-item::before, #sk-container-id-2 div.sk-parallel-item::before {content: \"\";position: absolute;border-left: 1px solid gray;box-sizing: border-box;top: 0;bottom: 0;left: 50%;z-index: -1;}#sk-container-id-2 div.sk-parallel-item {display: flex;flex-direction: column;z-index: 1;position: relative;background-color: white;}#sk-container-id-2 div.sk-parallel-item:first-child::after {align-self: flex-end;width: 50%;}#sk-container-id-2 div.sk-parallel-item:last-child::after {align-self: flex-start;width: 50%;}#sk-container-id-2 div.sk-parallel-item:only-child::after {width: 0;}#sk-container-id-2 div.sk-dashed-wrapped {border: 1px dashed gray;margin: 0 0.4em 0.5em 0.4em;box-sizing: border-box;padding-bottom: 0.4em;background-color: white;}#sk-container-id-2 div.sk-label label {font-family: monospace;font-weight: bold;display: inline-block;line-height: 1.2em;}#sk-container-id-2 div.sk-label-container {text-align: center;}#sk-container-id-2 div.sk-container {/* jupyter's `normalize.less` sets `[hidden] { display: none; }` but bootstrap.min.css set `[hidden] { display: none !important; }` so we also need the `!important` here to be able to override the default hidden behavior on the sphinx rendered scikit-learn.org. See: https://github.com/scikit-learn/scikit-learn/issues/21755 */display: inline-block !important;position: relative;}#sk-container-id-2 div.sk-text-repr-fallback {display: none;}</style><div id=\"sk-container-id-2\" class=\"sk-top-container\"><div class=\"sk-text-repr-fallback\"><pre>LogisticRegression(C=10, multi_class=&#x27;multinomial&#x27;)</pre><b>In a Jupyter environment, please rerun this cell to show the HTML representation or trust the notebook. <br />On GitHub, the HTML representation is unable to render, please try loading this page with nbviewer.org.</b></div><div class=\"sk-container\" hidden><div class=\"sk-item\"><div class=\"sk-estimator sk-toggleable\"><input class=\"sk-toggleable__control sk-hidden--visually\" id=\"sk-estimator-id-2\" type=\"checkbox\" checked><label for=\"sk-estimator-id-2\" class=\"sk-toggleable__label sk-toggleable__label-arrow\">LogisticRegression</label><div class=\"sk-toggleable__content\"><pre>LogisticRegression(C=10, multi_class=&#x27;multinomial&#x27;)</pre></div></div></div></div></div>"
            ]
          },
          "metadata": {},
          "execution_count": 55
        }
      ]
    },
    {
      "cell_type": "code",
      "source": [
        "softmax_reg.predict([[5, 2]])"
      ],
      "metadata": {
        "colab": {
          "base_uri": "https://localhost:8080/"
        },
        "id": "ZbCpekeAOv3k",
        "outputId": "f756a808-b411-4efe-ef64-b45ad7b77957"
      },
      "execution_count": 56,
      "outputs": [
        {
          "output_type": "execute_result",
          "data": {
            "text/plain": [
              "array([2])"
            ]
          },
          "metadata": {},
          "execution_count": 56
        }
      ]
    },
    {
      "cell_type": "code",
      "source": [
        "softmax_reg.predict_proba([[5, 2]])"
      ],
      "metadata": {
        "id": "KR6jt9ykOx1W",
        "outputId": "bed570e8-1e5c-4a4e-98ee-a07c9449ee2c",
        "colab": {
          "base_uri": "https://localhost:8080/"
        }
      },
      "execution_count": 57,
      "outputs": [
        {
          "output_type": "execute_result",
          "data": {
            "text/plain": [
              "array([[6.38014896e-07, 5.74929995e-02, 9.42506362e-01]])"
            ]
          },
          "metadata": {},
          "execution_count": 57
        }
      ]
    }
  ]
}